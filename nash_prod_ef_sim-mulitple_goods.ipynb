{
 "cells": [
  {
   "cell_type": "code",
   "execution_count": 1219,
   "metadata": {},
   "outputs": [],
   "source": [
    "import numpy as np\n",
    "from sys import maxsize\n",
    "import random"
   ]
  },
  {
   "cell_type": "markdown",
   "metadata": {},
   "source": [
    "*R* : Set of *m* resources represented as (id, cost?) tuples"
   ]
  },
  {
   "cell_type": "code",
   "execution_count": 1220,
   "metadata": {},
   "outputs": [
    {
     "name": "stdout",
     "output_type": "stream",
     "text": [
      "[(0, 2, 22), (1, 3, 25)]\n",
      "[2 3]\n"
     ]
    }
   ],
   "source": [
    "m = 2\n",
    "# q -> quantity of resources\n",
    "q = 3\n",
    "\n",
    "# id, quantity_available, cost\n",
    "R = [(i, np.random.randint(1, q+1), np.random.randint(0, 100)) for i in range(m)]\n",
    "RQ = np.array(R)[:,1]\n",
    "print(R)\n",
    "print(RQ)"
   ]
  },
  {
   "cell_type": "markdown",
   "metadata": {},
   "source": [
    "*N* : Set of *n* agents as (id, balance?, priority?)"
   ]
  },
  {
   "cell_type": "code",
   "execution_count": 1221,
   "metadata": {},
   "outputs": [
    {
     "data": {
      "text/plain": [
       "[(0, 0, 84, 83), (1, 0, 2, 35)]"
      ]
     },
     "execution_count": 1221,
     "metadata": {},
     "output_type": "execute_result"
    }
   ],
   "source": [
    "n = 2\n",
    "\n",
    "# id, quantity_owned, capacity, priority\n",
    "N = [(i, 0, np.random.randint(0, 100), np.random.randint(0, 100)) for i in range(n)]\n",
    "N"
   ]
  },
  {
   "cell_type": "markdown",
   "metadata": {},
   "source": [
    "Zero Allocations"
   ]
  },
  {
   "cell_type": "code",
   "execution_count": 1222,
   "metadata": {},
   "outputs": [
    {
     "name": "stdout",
     "output_type": "stream",
     "text": [
      "[[0, 0], [0, 0]]\n"
     ]
    }
   ],
   "source": [
    "def init_allocs(resources, agents):\n",
    "    allocs = []\n",
    "    for index, i in enumerate(agents):\n",
    "        r_i = [0 for x in resources]\n",
    "        allocs.append(r_i)\n",
    "        \n",
    "    return allocs\n",
    "\n",
    "A = init_allocs(R, N)\n",
    "print(A)"
   ]
  },
  {
   "cell_type": "markdown",
   "metadata": {},
   "source": [
    "Random allocations"
   ]
  },
  {
   "cell_type": "code",
   "execution_count": 1223,
   "metadata": {},
   "outputs": [],
   "source": [
    "def rand_allocs(resources, agents):\n",
    "    allocs = init_allocs(resources, agents)\n",
    "    for index, i in enumerate(resources):\n",
    "        res_remaining = q\n",
    "        for jindex, j in enumerate(agents):\n",
    "            if jindex == len(agents) - 1:\n",
    "                allocs[jindex][index] = res_remaining\n",
    "                res_remaining = 0\n",
    "            else:\n",
    "                n_res = np.random.randint(0, res_remaining+1)\n",
    "                allocs[jindex][index] = n_res\n",
    "                res_remaining -= n_res\n",
    "    return allocs"
   ]
  },
  {
   "cell_type": "code",
   "execution_count": 1224,
   "metadata": {},
   "outputs": [
    {
     "name": "stdout",
     "output_type": "stream",
     "text": [
      "[[2, 2], [1, 1]]\n"
     ]
    }
   ],
   "source": [
    "A = rand_allocs(R, N)\n",
    "print(A)"
   ]
  },
  {
   "cell_type": "markdown",
   "metadata": {},
   "source": [
    "Random utility values of resources for both users : U"
   ]
  },
  {
   "cell_type": "code",
   "execution_count": 1225,
   "metadata": {},
   "outputs": [
    {
     "name": "stdout",
     "output_type": "stream",
     "text": [
      "[[11, 25], [29, 1]]\n"
     ]
    }
   ],
   "source": [
    "U = []\n",
    "\n",
    "for index, i in enumerate(N):\n",
    "    u_i = random.sample(range(0, 100), len(R))\n",
    "    U.append(u_i)\n",
    "    \n",
    "    \n",
    "print(U)"
   ]
  },
  {
   "cell_type": "markdown",
   "metadata": {},
   "source": [
    "Random pair-wise complementing utility values : V"
   ]
  },
  {
   "cell_type": "code",
   "execution_count": 1226,
   "metadata": {},
   "outputs": [
    {
     "name": "stdout",
     "output_type": "stream",
     "text": [
      "[[27], [81]]\n"
     ]
    }
   ],
   "source": [
    "V = []\n",
    "\n",
    "for index, i in enumerate(N):\n",
    "    v_ijjp1 = random.sample(range(0, 100), len(R)//2)\n",
    "    V.append(v_ijjp1)\n",
    "    \n",
    "    \n",
    "print(V)"
   ]
  },
  {
   "cell_type": "code",
   "execution_count": 1227,
   "metadata": {},
   "outputs": [],
   "source": [
    "additive_utililty = lambda alloc, utility : sum(np.array(alloc) * np.array(utility))\n",
    "\n",
    "def complementing_utility(alloc, utility, p_utility) :\n",
    "    pairwise_alloc = []\n",
    "    for i in range(0, len(alloc), 2):\n",
    "        if alloc[i] == 0 or alloc[i+1] == 0:\n",
    "            pairwise_alloc.append(0)\n",
    "        else:\n",
    "            pairwise_alloc.append(alloc[i] if alloc[i] < alloc[i+1] else alloc[i+1])\n",
    "        \n",
    "#     print(alloc)\n",
    "#     print(pairwise_alloc)\n",
    "#     print(utility)\n",
    "#     print(p_utility)\n",
    "    return additive_utililty(alloc, utility) + additive_utililty(pairwise_alloc, p_utility)"
   ]
  },
  {
   "cell_type": "code",
   "execution_count": 1228,
   "metadata": {},
   "outputs": [
    {
     "name": "stdout",
     "output_type": "stream",
     "text": [
      "72\n",
      "126\n"
     ]
    }
   ],
   "source": [
    "print(additive_utililty(A[0], U[0]))\n",
    "print(complementing_utility(A[0], U[0], V[0]))"
   ]
  },
  {
   "cell_type": "code",
   "execution_count": 1231,
   "metadata": {},
   "outputs": [],
   "source": [
    "def optimal_nash_prod_multires(agents, resources, utility, p_utility):\n",
    "    num_a = len(agents)\n",
    "    num_r = len(resources)\n",
    "    total_res = np.array(resources)[:,1]\n",
    "    avail_res = total_res\n",
    "\n",
    "    allocs = np.zeros((num_a, num_r))\n",
    "    flallocs = allocs.flatten()\n",
    "    \n",
    "    opt_allocs = allocs\n",
    "    opt_payoff = 0\n",
    "    \n",
    "    counter = 0\n",
    "    while not np.array_equal(allocs[-1], total_res):\n",
    "        i = 0\n",
    "        carry = True\n",
    "        while i < len(flallocs) and carry:\n",
    "            carry = False\n",
    "            flallocs[i] += 1\n",
    "            if avail_res[i%len(avail_res)] == 0:\n",
    "                carry = True\n",
    "                flallocs[i] = 0\n",
    "            i += 1\n",
    "            allocs = flallocs.reshape((num_a, num_r))\n",
    "            avail_res = total_res - allocs.sum(axis=0)\n",
    "        payoff = 1\n",
    "        for j in range(len(allocs)) :\n",
    "            payoff *= complementing_utility(allocs[j], utility[j], p_utility[j])\n",
    "        if opt_payoff < payoff :\n",
    "            opt_payoff = payoff\n",
    "            opt_allocs = np.copy(allocs)\n",
    "        # print(allocs)\n",
    "        # print(avail_res)\n",
    "        counter += 1\n",
    "    print(counter)\n",
    "    # print(opt_payoff)\n",
    "    return opt_allocs"
   ]
  },
  {
   "cell_type": "code",
   "execution_count": 1233,
   "metadata": {
    "scrolled": false
   },
   "outputs": [
    {
     "name": "stdout",
     "output_type": "stream",
     "text": [
      "59\n"
     ]
    }
   ],
   "source": [
    "onpm = optimal_nash_prod_multires(N, R, U, V)"
   ]
  },
  {
   "cell_type": "markdown",
   "metadata": {},
   "source": [
    "<hr>\n",
    "#### Envy and envy up to one good calculations\n",
    "<hr>"
   ]
  },
  {
   "cell_type": "code",
   "execution_count": 1208,
   "metadata": {},
   "outputs": [],
   "source": [
    "def envyMap(allocs, utilities, p_utilities):\n",
    "    size_agents = np.array(allocs).shape[0]\n",
    "    envy_map = np.zeros((size_agents, size_agents))\n",
    "    for i in range(len(envy_map)):\n",
    "        for j in range(len(envy_map[i])):\n",
    "            envy_map[i][j] = complementing_utility(allocs[i], utilities[i], p_utilities[i]) \\\n",
    "            - complementing_utility(allocs[j], utilities[i], p_utilities[i])\n",
    "    return envy_map"
   ]
  },
  {
   "cell_type": "code",
   "execution_count": 1209,
   "metadata": {},
   "outputs": [],
   "source": [
    "def envyMap_upto1(allocs, utilities, p_utilities):\n",
    "    size_agents = np.array(allocs).shape[0]\n",
    "    size_res = np.array(allocs).shape[1]\n",
    "    envy_map = np.zeros((size_agents, size_agents))\n",
    "    for i in range(len(envy_map)) :\n",
    "        for j in range(len(envy_map[i])):\n",
    "            envy_map[i][j] = complementing_utility(allocs[i], utilities[i], p_utilities[i]) \\\n",
    "            - complementing_utility(allocs[j], utilities[i], p_utilities[i])\n",
    "            if envy_map[i][j] < 0 :\n",
    "                envy_res_drop1_j = np.zeros(size_res)\n",
    "                max_pos_envy = - maxsize\n",
    "                for x in range(len(envy_res_drop1_j)) :\n",
    "                    new_alloc_j = list(allocs[j])\n",
    "                    new_alloc_j[x] = 0\n",
    "                    envy_res_drop1_j[x] = complementing_utility(allocs[i], utilities[i], p_utilities[i]) \\\n",
    "                    - complementing_utility(new_alloc_j, utilities[i], p_utilities[i])\n",
    "                    # print(envy_res_drop1_j)\n",
    "                    if envy_res_drop1_j[x] >= max_pos_envy:\n",
    "                        envy_map[i][j] = envy_res_drop1_j[x]\n",
    "                        max_pos_envy = envy_res_drop1_j[x]\n",
    "                \n",
    "    return envy_map"
   ]
  },
  {
   "cell_type": "code",
   "execution_count": 1210,
   "metadata": {},
   "outputs": [],
   "source": [
    "def envyMap_upto2(allocs, utilities, p_utilities):\n",
    "    size_agents = np.array(allocs).shape[0]\n",
    "    size_res = np.array(allocs).shape[1]\n",
    "    envy_map = np.zeros((size_agents, size_agents))\n",
    "    for i in range(len(envy_map)) :\n",
    "        for j in range(len(envy_map[i])):\n",
    "            envy_map[i][j] = complementing_utility(allocs[i], utilities[i], p_utilities[i]) \\\n",
    "            - complementing_utility(allocs[j], utilities[i], p_utilities[i])\n",
    "            if envy_map[i][j] < 0 :\n",
    "                envy_res_drop1_j = np.zeros(size_res)\n",
    "                max_pos_envy = - maxsize\n",
    "                for x in range(len(envy_res_drop1_j)) :\n",
    "                    new_alloc_j = list(allocs[j])\n",
    "                    new_alloc_j[x] = 0\n",
    "                    envy_res_drop1_j[x] = complementing_utility(allocs[i], utilities[i], p_utilities[i]) \\\n",
    "                    - complementing_utility(new_alloc_j, utilities[i], p_utilities[i])\n",
    "                    # print(envy_res_drop1_j)\n",
    "                    if envy_res_drop1_j[x] >= max_pos_envy:\n",
    "                        envy_map[i][j] = envy_res_drop1_j[x]\n",
    "                        max_pos_envy = envy_res_drop1_j[x]\n",
    "                        if envy_map[i][j] < 0 :\n",
    "                            envy_res_drop2_j = np.zeros((size_res, size_res))\n",
    "                            max_pos_envy_drop2 = - maxsize\n",
    "                            for p in range(len(envy_res_drop2_j)):\n",
    "                                for q in range(len(envy_res_drop2_j[p])):\n",
    "                                    if p == q:\n",
    "                                        continue\n",
    "                                    new_alloc_j_drop2 = list(allocs[j])\n",
    "                                    new_alloc_j_drop2[p] = 0\n",
    "                                    new_alloc_j_drop2[q] = 0\n",
    "                                    envy_res_drop2_j[p][q] = complementing_utility(allocs[i], utilities[i], p_utilities[i]) \\\n",
    "                                    - complementing_utility(new_alloc_j_drop2, utilities[i], p_utilities[i])\n",
    "                                    if envy_res_drop2_j[p][q] >= max_pos_envy_drop2:\n",
    "                                        envy_map[i][j] = envy_res_drop2_j[p][q]\n",
    "                                        max_pos_envy_drop2 = envy_res_drop2_j[p][q]\n",
    "                \n",
    "    return envy_map"
   ]
  },
  {
   "cell_type": "code",
   "execution_count": 1211,
   "metadata": {},
   "outputs": [
    {
     "name": "stdout",
     "output_type": "stream",
     "text": [
      "[[32, 71], [80, 26]]\n",
      "[[25], [83]]\n"
     ]
    }
   ],
   "source": [
    "print(U)\n",
    "print(V)"
   ]
  },
  {
   "cell_type": "markdown",
   "metadata": {},
   "source": [
    "Envy map represents the envy between two agents. $envymap_{ij}$ is the amount with which i envies j"
   ]
  },
  {
   "cell_type": "code",
   "execution_count": 1212,
   "metadata": {},
   "outputs": [
    {
     "name": "stdout",
     "output_type": "stream",
     "text": [
      "Random allocations :  [[2, 0], [1, 3]]\n",
      "[[   0. -206.]\n",
      " [  81.    0.]]\n",
      "[[ 0. 32.]\n",
      " [81.  0.]]\n"
     ]
    }
   ],
   "source": [
    "rand_a = rand_allocs(R, N)\n",
    "print(\"Random allocations : \", rand_a)\n",
    "print(envyMap(rand_a, U, V))\n",
    "print(envyMap_upto1(rand_a, U, V))"
   ]
  },
  {
   "cell_type": "code",
   "execution_count": 1235,
   "metadata": {},
   "outputs": [
    {
     "name": "stdout",
     "output_type": "stream",
     "text": [
      "Nash product allocations :  [[1. 2.]\n",
      " [1. 1.]]\n",
      "[[ 0. 25.]\n",
      " [-1.  0.]]\n",
      "[[  0.  25.]\n",
      " [109.   0.]]\n",
      "[[  0.  25.]\n",
      " [109.   0.]]\n"
     ]
    }
   ],
   "source": [
    "print(\"Nash product allocations : \", onpm)\n",
    "print(envyMap(onpm, U, V))\n",
    "print(envyMap_upto1(onpm, U, V))\n",
    "print(envyMap_upto2(onpm, U, V))"
   ]
  },
  {
   "cell_type": "markdown",
   "metadata": {},
   "source": [
    "<hr>\n",
    "#### Envy free experiments on large sample\n",
    "<hr>"
   ]
  },
  {
   "cell_type": "markdown",
   "metadata": {},
   "source": [
    "m => Number of resources <br>\n",
    "R => Resources <id, value> <br>\n",
    "n => Number of agents <br>\n",
    "N => Agents <id, value, priority> <br>\n",
    "U => Additive utilities\n",
    "V => Complementing Utilities"
   ]
  },
  {
   "cell_type": "markdown",
   "metadata": {},
   "source": [
    "Additive utilities"
   ]
  },
  {
   "cell_type": "code",
   "execution_count": 1214,
   "metadata": {},
   "outputs": [
    {
     "name": "stdout",
     "output_type": "stream",
     "text": [
      "EF1 percent :  44.2\n"
     ]
    }
   ],
   "source": [
    "np.random.seed(10)\n",
    "\n",
    "ef1_tracker = []\n",
    "\n",
    "for x in range(1000):\n",
    "    m = 10\n",
    "    R = [(i, np.random.randint(0, 100)) for i in range(m)]\n",
    "\n",
    "    n = 2\n",
    "    N = [(i, np.random.randint(0, 100), np.random.randint(0, 100)) for i in range(n)]\n",
    "\n",
    "    U = []\n",
    "    for index, i in enumerate(N):\n",
    "        u_i = np.random.random_sample(len(R)) * 100\n",
    "        U.append(u_i)\n",
    "\n",
    "    V = []\n",
    "    for index, i in enumerate(N):\n",
    "        v_ijjp1 = np.random.random_sample(len(R)//2) * 0\n",
    "        V.append(v_ijjp1)\n",
    "\n",
    "    random_alloc = rand_allocs(R, N)\n",
    "    envymap1 = envyMap_upto1(random_alloc, U, V)\n",
    "    ef1_tracker.append(not bool(np.sum(envymap1<0)))\n",
    "    \n",
    "    # print(\"Allocation : \", random_alloc)\n",
    "    # print(envymap1)\n",
    "    # print(\"Is EF1 allocation? \", ef1_tracker[x])\n",
    "    \n",
    "print(\"EF1 percent : \", np.sum(ef1_tracker)/len(ef1_tracker) * 100)"
   ]
  },
  {
   "cell_type": "markdown",
   "metadata": {},
   "source": [
    "Complementing utilities"
   ]
  },
  {
   "cell_type": "code",
   "execution_count": 20,
   "metadata": {},
   "outputs": [
    {
     "name": "stdout",
     "output_type": "stream",
     "text": [
      "EF1 percent :  39.5\n"
     ]
    }
   ],
   "source": [
    "np.random.seed(10)\n",
    "\n",
    "ef1_tracker = []\n",
    "\n",
    "for x in range(1000):\n",
    "    m = 10\n",
    "    R = [(i, np.random.randint(0, 100)) for i in range(m)]\n",
    "\n",
    "    n = 2\n",
    "    N = [(i, np.random.randint(0, 100), np.random.randint(0, 100)) for i in range(n)]\n",
    "\n",
    "    U = []\n",
    "    for index, i in enumerate(N):\n",
    "        u_i = np.random.random_sample(len(R)) * 100\n",
    "        U.append(u_i)\n",
    "\n",
    "    V = []\n",
    "    for index, i in enumerate(N):\n",
    "        v_ijjp1 = np.random.random_sample(len(R)//2) * 100\n",
    "        V.append(v_ijjp1)\n",
    "\n",
    "    random_alloc = rand_allocs(R, N)\n",
    "    envymap1 = envyMap_upto1(random_alloc, U, V)\n",
    "    ef1_tracker.append(not bool(np.sum(envymap1<0)))\n",
    "    \n",
    "    # print(\"Allocation : \", random_alloc)\n",
    "    # print(envymap1)\n",
    "    # print(\"Is EF1 allocation? \", ef1_tracker[x])\n",
    "    \n",
    "print(\"EF1 percent : \", np.sum(ef1_tracker)/len(ef1_tracker) * 100)"
   ]
  },
  {
   "cell_type": "code",
   "execution_count": 118,
   "metadata": {
    "scrolled": true
   },
   "outputs": [
    {
     "name": "stdout",
     "output_type": "stream",
     "text": [
      "0  EF1 percent :  100.0\n",
      "1  EF1 percent :  100.0\n",
      "2  EF1 percent :  100.0\n",
      "3  EF1 percent :  100.0\n",
      "4  EF1 percent :  100.0\n",
      "5  EF1 percent :  100.0\n",
      "6  EF1 percent :  100.0\n",
      "7  EF1 percent :  100.0\n",
      "8  EF1 percent :  100.0\n",
      "9  EF1 percent :  100.0\n",
      "10  EF1 percent :  100.0\n",
      "11  EF1 percent :  100.0\n",
      "12  EF1 percent :  100.0\n",
      "13  EF1 percent :  100.0\n",
      "14  EF1 percent :  100.0\n",
      "15  EF1 percent :  100.0\n",
      "16  EF1 percent :  100.0\n",
      "17  EF1 percent :  100.0\n",
      "18  EF1 percent :  100.0\n",
      "19  EF1 percent :  100.0\n",
      "20  EF1 percent :  100.0\n",
      "21  EF1 percent :  100.0\n",
      "22  EF1 percent :  100.0\n",
      "23  EF1 percent :  100.0\n",
      "24  EF1 percent :  100.0\n",
      "25  EF1 percent :  100.0\n",
      "26  EF1 percent :  100.0\n",
      "27  EF1 percent :  100.0\n",
      "28  EF1 percent :  100.0\n",
      "29  EF1 percent :  100.0\n",
      "30  EF1 percent :  100.0\n",
      "31  EF1 percent :  100.0\n",
      "32  EF1 percent :  100.0\n",
      "33  EF1 percent :  100.0\n",
      "34  EF1 percent :  100.0\n",
      "35  EF1 percent :  100.0\n",
      "36  EF1 percent :  100.0\n",
      "37  EF1 percent :  100.0\n",
      "38  EF1 percent :  100.0\n",
      "39  EF1 percent :  100.0\n",
      "40  EF1 percent :  100.0\n",
      "41  EF1 percent :  100.0\n",
      "42  EF1 percent :  100.0\n",
      "43  EF1 percent :  100.0\n",
      "44  EF1 percent :  100.0\n",
      "45  EF1 percent :  100.0\n",
      "46  EF1 percent :  100.0\n",
      "47  EF1 percent :  100.0\n",
      "48  EF1 percent :  100.0\n",
      "49  EF1 percent :  100.0\n",
      "50  EF1 percent :  100.0\n",
      "51  EF1 percent :  100.0\n",
      "52  EF1 percent :  100.0\n",
      "53  EF1 percent :  100.0\n",
      "54  EF1 percent :  100.0\n",
      "55  EF1 percent :  100.0\n",
      "56  EF1 percent :  100.0\n",
      "57  EF1 percent :  100.0\n",
      "58  EF1 percent :  100.0\n",
      "59  EF1 percent :  100.0\n",
      "60  EF1 percent :  100.0\n",
      "61  EF1 percent :  100.0\n",
      "62  EF1 percent :  100.0\n",
      "63  EF1 percent :  100.0\n",
      "64  EF1 percent :  100.0\n",
      "65  EF1 percent :  100.0\n",
      "66  EF1 percent :  100.0\n",
      "67  EF1 percent :  100.0\n",
      "68  EF1 percent :  100.0\n",
      "69  EF1 percent :  100.0\n",
      "70  EF1 percent :  100.0\n",
      "71  EF1 percent :  100.0\n",
      "72  EF1 percent :  100.0\n",
      "73  EF1 percent :  100.0\n",
      "74  EF1 percent :  100.0\n",
      "75  EF1 percent :  100.0\n",
      "76  EF1 percent :  100.0\n",
      "77  EF1 percent :  100.0\n",
      "78  EF1 percent :  100.0\n",
      "79  EF1 percent :  100.0\n",
      "80  EF1 percent :  100.0\n",
      "81  EF1 percent :  100.0\n",
      "82  EF1 percent :  100.0\n",
      "83  EF1 percent :  100.0\n",
      "84  EF1 percent :  100.0\n",
      "85  EF1 percent :  100.0\n",
      "86  EF1 percent :  100.0\n",
      "87  EF1 percent :  100.0\n",
      "88  EF1 percent :  100.0\n",
      "89  EF1 percent :  100.0\n",
      "90  EF1 percent :  100.0\n",
      "91  EF1 percent :  100.0\n",
      "92  EF1 percent :  100.0\n",
      "93  EF1 percent :  100.0\n",
      "94  EF1 percent :  100.0\n",
      "95  EF1 percent :  100.0\n",
      "96  EF1 percent :  100.0\n",
      "97  EF1 percent :  100.0\n",
      "98  EF1 percent :  100.0\n",
      "99  EF1 percent :  100.0\n",
      "EF1 percent :  100.0\n"
     ]
    }
   ],
   "source": [
    "np.random.seed(10)\n",
    "\n",
    "ef1_tracker = []\n",
    "\n",
    "for x in range(100):\n",
    "    m = 10\n",
    "    R = [(i, np.random.randint(0, 100)) for i in range(m)]\n",
    "\n",
    "    n = 2\n",
    "    N = [(i, np.random.randint(0, 100), np.random.randint(0, 100)) for i in range(n)]\n",
    "\n",
    "    U = []\n",
    "    for index, i in enumerate(N):\n",
    "        u_i = np.random.random_sample(len(R)) * 100\n",
    "        U.append(u_i)\n",
    "\n",
    "    V = []\n",
    "    for index, i in enumerate(N):\n",
    "        v_ijjp1 = np.random.random_sample(len(R)//2) * 0\n",
    "        V.append(v_ijjp1)\n",
    "\n",
    "    nashp_alloc = optimal_nash_prod_wcomp(U, V)\n",
    "    envymap1 = envyMap_upto1(nashp_alloc, U, V)\n",
    "    ef1_tracker.append(not bool(np.sum(envymap1<0)))\n",
    "    \n",
    "    # print(\"Allocation : \", random_alloc)\n",
    "    # print(envymap1)\n",
    "    # print(\"Is EF1 allocation? \", ef1_tracker[x])\n",
    "    print(x, \" EF1 percent : \", np.sum(ef1_tracker)/len(ef1_tracker) * 100)\n",
    "    \n",
    "print(\"EF1 percent : \", np.sum(ef1_tracker)/len(ef1_tracker) * 100)"
   ]
  },
  {
   "cell_type": "markdown",
   "metadata": {},
   "source": [
    "<hr>\n",
    "#### Store experimental data\n",
    "<hr>"
   ]
  },
  {
   "cell_type": "code",
   "execution_count": 47,
   "metadata": {},
   "outputs": [],
   "source": [
    "def writeNashAlloc(U, V, na, seed):\n",
    "    filename = \"nash_allocs_random_uv_\" + str(seed)\n",
    "    file = open(filename, \"a\")\n",
    "    file.write(\"%s %s \\t # U Shape\\n\" %(len(U), len(U[0])))\n",
    "    for i in range(len(U)):\n",
    "        file.write(\" \".join(str(x) for x in U[i]))\n",
    "        file.write(\"\\n\")\n",
    "    \n",
    "    file.write(\"%s %s \\t # V Shape\\n\"  %(len(V), len(V[0])))\n",
    "    for i in range(len(V)):\n",
    "        file.write(\" \".join(str(x) for x in V[i]))\n",
    "        file.write(\"\\n\")\n",
    "    \n",
    "    file.write(\"%s %s \\t # Alloc Shape\\n\"  %(len(na), len(na[0])))\n",
    "    for i in range(len(na)):\n",
    "        file.write(\" \".join(str(x) for x in na[i]))\n",
    "        file.write(\"\\n\")\n",
    "        \n",
    "    file.write(\"\\n\")\n",
    "    file.close()"
   ]
  },
  {
   "cell_type": "code",
   "execution_count": 48,
   "metadata": {},
   "outputs": [],
   "source": [
    "random_seed = 10\n",
    "\n",
    "ef1_tracker = []\n",
    "for s in range(11, 20):\n",
    "    np.random.seed(s)\n",
    "    \n",
    "    for x in range(100):\n",
    "        m = 10\n",
    "        R = [(i, np.random.randint(0, 100)) for i in range(m)]\n",
    "\n",
    "        n = 2\n",
    "        N = [(i, np.random.randint(0, 100), np.random.randint(0, 100)) for i in range(n)]\n",
    "\n",
    "        U = []\n",
    "        for index, i in enumerate(N):\n",
    "            u_i = np.random.random_sample(len(R)) * 100\n",
    "            U.append(u_i)\n",
    "\n",
    "        V = []\n",
    "        for index, i in enumerate(N):\n",
    "            v_ijjp1 = np.random.random_sample(len(R)//2) * 0\n",
    "            V.append(v_ijjp1)\n",
    "\n",
    "        nashp_alloc = optimal_nash_prod_wcomp(U, V)\n",
    "\n",
    "        writeNashAlloc(U, V, nashp_alloc, random_seed)"
   ]
  },
  {
   "cell_type": "code",
   "execution_count": 1236,
   "metadata": {},
   "outputs": [
    {
     "data": {
      "text/plain": [
       "3"
      ]
     },
     "execution_count": 1236,
     "metadata": {},
     "output_type": "execute_result"
    }
   ],
   "source": [
    "xt = (5, 4, 6)\n",
    "len(xt)"
   ]
  }
 ],
 "metadata": {
  "kernelspec": {
   "display_name": "Python 3",
   "language": "python",
   "name": "python3"
  },
  "language_info": {
   "codemirror_mode": {
    "name": "ipython",
    "version": 3
   },
   "file_extension": ".py",
   "mimetype": "text/x-python",
   "name": "python",
   "nbconvert_exporter": "python",
   "pygments_lexer": "ipython3",
   "version": "3.6.5"
  }
 },
 "nbformat": 4,
 "nbformat_minor": 2
}
