{
 "cells": [
  {
   "cell_type": "code",
   "execution_count": 124,
   "metadata": {},
   "outputs": [],
   "source": [
    "import os\n",
    "from sys import maxsize\n",
    "import numpy as np\n",
    "import matplotlib.pyplot as plt"
   ]
  },
  {
   "cell_type": "code",
   "execution_count": 39,
   "metadata": {},
   "outputs": [],
   "source": [
    "dir_u = \"/home/shail/work/UIC/ef-alloc-experiments/nash_allocs_random_u/\"\n",
    "dir_uv = \"/home/shail/work/UIC/ef-alloc-experiments/nash_allocs_random_uv/\"\n",
    "filename_pre = \"nash_allocs_random_uv_1\""
   ]
  },
  {
   "cell_type": "markdown",
   "metadata": {},
   "source": [
    "Us => [1000, 2, 10] <br>\n",
    "Vs => [1000, 2, 5] <br>\n",
    "As => [1000, 2, 10] <br>\n",
    "\n",
    "100 per file * 10 files"
   ]
  },
  {
   "cell_type": "code",
   "execution_count": 70,
   "metadata": {},
   "outputs": [],
   "source": [
    "def readdat(directory):\n",
    "    Us = []\n",
    "    Vs = []\n",
    "    As = []\n",
    "    \n",
    "    for filenum in range(10):\n",
    "        print(directory + filename_pre + str(filenum))\n",
    "\n",
    "        with open(directory + filename_pre + str(filenum), 'r') as file:\n",
    "            for c in range(100):\n",
    "                line = file.readline().split()\n",
    "                # print(line)\n",
    "                u_size = (int(line[0]), int(line[1]))\n",
    "                utemp = []\n",
    "                for i in range(u_size[0]):\n",
    "                    utemp.append([float(x) for x in file.readline().split()])\n",
    "                Us.append(utemp)\n",
    "                # print(utemp)\n",
    "\n",
    "                line = file.readline().split()\n",
    "                # print(line)\n",
    "                v_size = (int(line[0]), int(line[1]))\n",
    "                vtemp = []\n",
    "                for i in range(v_size[0]):\n",
    "                    vtemp.append([float(x) for x in file.readline().split()])\n",
    "                Vs.append(vtemp)\n",
    "                # print(vtemp)\n",
    "\n",
    "                line = file.readline().split()\n",
    "                # print(line)\n",
    "                alloc_size = (int(line[0]), int(line[1]))\n",
    "                alloctemp = []\n",
    "                for i in range(alloc_size[0]):\n",
    "                    alloctemp.append([int(x) for x in file.readline().split()])\n",
    "                As.append(alloctemp)\n",
    "                # print(alloctemp)\n",
    "\n",
    "                line = file.readline()\n",
    "                # print(line)\n",
    "    return (Us, Vs, As)"
   ]
  },
  {
   "cell_type": "markdown",
   "metadata": {},
   "source": [
    "EF calculations"
   ]
  },
  {
   "cell_type": "code",
   "execution_count": 60,
   "metadata": {},
   "outputs": [],
   "source": [
    "additive_utililty = lambda alloc, utility : sum(np.array(alloc) * np.array(utility))\n",
    "\n",
    "def complementing_utility(alloc, utility, p_utility) :\n",
    "    pairwise_alloc = []\n",
    "    for i in range(0, len(alloc), 2):\n",
    "        pairwise_alloc.append(alloc[i] & alloc[i+1])\n",
    "        \n",
    "#     print(alloc)\n",
    "#     print(pairwise_alloc)\n",
    "#     print(utility)\n",
    "#     print(p_utility)\n",
    "    return additive_utililty(alloc, utility) + additive_utililty(pairwise_alloc, p_utility)\n",
    "\n",
    "def envyMap(allocs, utilities, p_utilities):\n",
    "    size_agents = np.array(allocs).shape[0]\n",
    "    envy_map = np.zeros((size_agents, size_agents))\n",
    "    for i in range(len(envy_map)):\n",
    "        for j in range(len(envy_map[i])):\n",
    "            envy_map[i][j] = complementing_utility(allocs[i], utilities[i], p_utilities[i]) \\\n",
    "            - complementing_utility(allocs[j], utilities[i], p_utilities[i])\n",
    "    return envy_map\n",
    "\n",
    "def envyMap_upto1(allocs, utilities, p_utilities):\n",
    "    size_agents = np.array(allocs).shape[0]\n",
    "    size_res = np.array(allocs).shape[1]\n",
    "    envy_map = np.zeros((size_agents, size_agents))\n",
    "    for i in range(len(envy_map)) :\n",
    "        for j in range(len(envy_map[i])):\n",
    "            envy_map[i][j] = complementing_utility(allocs[i], utilities[i], p_utilities[i]) \\\n",
    "            - complementing_utility(allocs[j], utilities[i], p_utilities[i])\n",
    "            if envy_map[i][j] < 0 :\n",
    "                envy_res_drop1_j = np.zeros(size_res)\n",
    "                max_pos_envy = - maxsize\n",
    "                for x in range(len(envy_res_drop1_j)) :\n",
    "                    new_alloc_j = list(allocs[j])\n",
    "                    new_alloc_j[x] = 0\n",
    "                    envy_res_drop1_j[x] = complementing_utility(allocs[i], utilities[i], p_utilities[i]) \\\n",
    "                    - complementing_utility(new_alloc_j, utilities[i], p_utilities[i])\n",
    "                    # print(envy_res_drop1_j)\n",
    "                    if envy_res_drop1_j[x] >= max_pos_envy:\n",
    "                        envy_map[i][j] = envy_res_drop1_j[x]\n",
    "                        max_pos_envy = envy_res_drop1_j[x]\n",
    "                \n",
    "    return envy_map"
   ]
  },
  {
   "cell_type": "markdown",
   "metadata": {},
   "source": [
    "For additive utilities"
   ]
  },
  {
   "cell_type": "code",
   "execution_count": 134,
   "metadata": {},
   "outputs": [
    {
     "name": "stdout",
     "output_type": "stream",
     "text": [
      "/home/shail/work/UIC/ef-alloc-experiments/nash_allocs_random_u/nash_allocs_random_uv_10\n",
      "/home/shail/work/UIC/ef-alloc-experiments/nash_allocs_random_u/nash_allocs_random_uv_11\n",
      "/home/shail/work/UIC/ef-alloc-experiments/nash_allocs_random_u/nash_allocs_random_uv_12\n",
      "/home/shail/work/UIC/ef-alloc-experiments/nash_allocs_random_u/nash_allocs_random_uv_13\n",
      "/home/shail/work/UIC/ef-alloc-experiments/nash_allocs_random_u/nash_allocs_random_uv_14\n",
      "/home/shail/work/UIC/ef-alloc-experiments/nash_allocs_random_u/nash_allocs_random_uv_15\n",
      "/home/shail/work/UIC/ef-alloc-experiments/nash_allocs_random_u/nash_allocs_random_uv_16\n",
      "/home/shail/work/UIC/ef-alloc-experiments/nash_allocs_random_u/nash_allocs_random_uv_17\n",
      "/home/shail/work/UIC/ef-alloc-experiments/nash_allocs_random_u/nash_allocs_random_uv_18\n",
      "/home/shail/work/UIC/ef-alloc-experiments/nash_allocs_random_u/nash_allocs_random_uv_19\n",
      "Us shape : (1000, 2, 10)\n",
      "Vs shape : (1000, 2, 5)\n",
      "As shape : (1000, 2, 10)\n"
     ]
    }
   ],
   "source": [
    "Us, Vs, As = readdat(dir_u)\n",
    "Us = np.array(Us)\n",
    "Vs = np.array(Vs)\n",
    "As = np.array(As)\n",
    "print(\"Us shape :\", Us.shape)\n",
    "print(\"Vs shape :\", Vs.shape)\n",
    "print(\"As shape :\", As.shape)"
   ]
  },
  {
   "cell_type": "code",
   "execution_count": 135,
   "metadata": {},
   "outputs": [
    {
     "name": "stdout",
     "output_type": "stream",
     "text": [
      "EF0 percent :  99.9\n"
     ]
    }
   ],
   "source": [
    "ef_map = []\n",
    "envymap0 = []\n",
    "for i in range(1000):\n",
    "    envymaptemp = envyMap(As[i], Us[i], Vs[i])\n",
    "    envymap0.append(envymaptemp)\n",
    "    # print(envymaptemp)\n",
    "    ef_map.append(not bool(np.sum(envymaptemp<0)))\n",
    "    \n",
    "ef_map = np.array(ef_map)\n",
    "# print(ef_map)\n",
    "print(\"EF0 percent : \", np.sum(ef_map)/len(ef_map) * 100)"
   ]
  },
  {
   "cell_type": "code",
   "execution_count": 136,
   "metadata": {},
   "outputs": [
    {
     "name": "stdout",
     "output_type": "stream",
     "text": [
      "626\n",
      "[[91.94518809 69.44138683 80.53043221 19.7375666  71.29642043 88.42985512\n",
      "   2.43830985  3.3893151  92.90327996  0.41590553]\n",
      " [50.5897397  67.58852187 74.52953722 79.47757075 96.09451101 90.86539601\n",
      "  70.56537618 42.14652442 97.90497132 92.42195652]]\n",
      "[[0. 0. 0. 0. 0.]\n",
      " [0. 0. 0. 0. 0.]]\n",
      "[[1 1 1 0 0 1 0 0 1 0]\n",
      " [0 0 0 1 1 0 1 1 0 1]]\n",
      "[[  0.         325.97262469]\n",
      " [ -0.77222723   0.        ]]\n"
     ]
    }
   ],
   "source": [
    "failtemp = np.argwhere(ef_map==False)[0][0]\n",
    "print(failtemp)\n",
    "print(Us[failtemp])\n",
    "print(Vs[failtemp])\n",
    "print(As[failtemp])\n",
    "print(envymap0[failtemp])"
   ]
  },
  {
   "cell_type": "code",
   "execution_count": 137,
   "metadata": {},
   "outputs": [
    {
     "name": "stdout",
     "output_type": "stream",
     "text": [
      "EF1 percent :  100.0\n"
     ]
    }
   ],
   "source": [
    "ef1_map = []\n",
    "envymap1 = []\n",
    "for i in range(1000):\n",
    "    envymaptemp = envyMap_upto1(As[i], Us[i], Vs[i])\n",
    "    envymap1.append(envymaptemp)\n",
    "    # print(envymaptemp)\n",
    "    ef1_map.append(not bool(np.sum(envymaptemp<0)))\n",
    "    \n",
    "ef1_map = np.array(ef1_map)\n",
    "# print(ef_map)\n",
    "print(\"EF1 percent : \", np.sum(ef1_map)/len(ef1_map) * 100)\n"
   ]
  },
  {
   "cell_type": "markdown",
   "metadata": {},
   "source": [
    "For complementing utilities"
   ]
  },
  {
   "cell_type": "code",
   "execution_count": 138,
   "metadata": {},
   "outputs": [
    {
     "name": "stdout",
     "output_type": "stream",
     "text": [
      "/home/shail/work/UIC/ef-alloc-experiments/nash_allocs_random_uv/nash_allocs_random_uv_10\n",
      "/home/shail/work/UIC/ef-alloc-experiments/nash_allocs_random_uv/nash_allocs_random_uv_11\n",
      "/home/shail/work/UIC/ef-alloc-experiments/nash_allocs_random_uv/nash_allocs_random_uv_12\n",
      "/home/shail/work/UIC/ef-alloc-experiments/nash_allocs_random_uv/nash_allocs_random_uv_13\n",
      "/home/shail/work/UIC/ef-alloc-experiments/nash_allocs_random_uv/nash_allocs_random_uv_14\n",
      "/home/shail/work/UIC/ef-alloc-experiments/nash_allocs_random_uv/nash_allocs_random_uv_15\n",
      "/home/shail/work/UIC/ef-alloc-experiments/nash_allocs_random_uv/nash_allocs_random_uv_16\n",
      "/home/shail/work/UIC/ef-alloc-experiments/nash_allocs_random_uv/nash_allocs_random_uv_17\n",
      "/home/shail/work/UIC/ef-alloc-experiments/nash_allocs_random_uv/nash_allocs_random_uv_18\n",
      "/home/shail/work/UIC/ef-alloc-experiments/nash_allocs_random_uv/nash_allocs_random_uv_19\n",
      "Us shape : (1000, 2, 10)\n",
      "Vs shape : (1000, 2, 5)\n",
      "As shape : (1000, 2, 10)\n"
     ]
    }
   ],
   "source": [
    "Us, Vs, As = readdat(dir_uv)\n",
    "Us = np.array(Us)\n",
    "Vs = np.array(Vs)\n",
    "As = np.array(As)\n",
    "print(\"Us shape :\", Us.shape)\n",
    "print(\"Vs shape :\", Vs.shape)\n",
    "print(\"As shape :\", As.shape)"
   ]
  },
  {
   "cell_type": "code",
   "execution_count": 139,
   "metadata": {},
   "outputs": [
    {
     "name": "stdout",
     "output_type": "stream",
     "text": [
      "EF0 percent :  75.7\n"
     ]
    }
   ],
   "source": [
    "ef_map = []\n",
    "envymap0 = []\n",
    "for i in range(1000):\n",
    "    envymaptemp = envyMap(As[i], Us[i], Vs[i])\n",
    "    envymap0.append(envymaptemp)\n",
    "    # print(envymaptemp)\n",
    "    ef_map.append(not bool(np.sum(envymaptemp<0)))\n",
    "    \n",
    "# print(ef_map)\n",
    "print(\"EF0 percent : \", np.sum(ef_map)/len(ef_map) * 100)"
   ]
  },
  {
   "cell_type": "code",
   "execution_count": 140,
   "metadata": {},
   "outputs": [
    {
     "name": "stdout",
     "output_type": "stream",
     "text": [
      "EF1 percent :  99.9\n"
     ]
    }
   ],
   "source": [
    "ef1_map = []\n",
    "envymap1 = []\n",
    "for i in range(1000):\n",
    "    envymaptemp = envyMap_upto1(As[i], Us[i], Vs[i])\n",
    "    envymap1.append(envymaptemp)\n",
    "    # print(envymaptemp)\n",
    "    ef1_map.append(not bool(np.sum(envymaptemp<0)))\n",
    "    \n",
    "ef1_map = np.array(ef1_map)\n",
    "# print(ef_map)\n",
    "print(\"EF1 percent : \", np.sum(ef1_map)/len(ef1_map) * 100)\n"
   ]
  },
  {
   "cell_type": "code",
   "execution_count": 141,
   "metadata": {},
   "outputs": [
    {
     "name": "stdout",
     "output_type": "stream",
     "text": [
      "227\n",
      "[[67.45585206 80.77103962 68.16276775 50.75259906 85.8262014  51.96549706\n",
      "  98.40725085 71.00046533 46.05665978 81.06982838]\n",
      " [88.3277973  87.49497943 39.53900983 23.20599537 68.00383777 68.11960718\n",
      "  88.6035461  49.79262117 89.29883501 99.54084094]]\n",
      "[[42.45682793 83.04277739 48.97735609 39.80181219 88.17786199]\n",
      " [51.55314168 50.47408964 82.43910135 99.55207132  6.26422986]]\n",
      "[[0 0 1 1 0 0 0 0 1 1]\n",
      " [1 1 0 0 1 1 1 1 0 0]]\n",
      "[[   0.         -169.39980819]\n",
      " [ 375.56370264    0.        ]]\n"
     ]
    }
   ],
   "source": [
    "failtemp = np.argwhere(ef1_map==False)[0][0]\n",
    "print(failtemp)\n",
    "print(Us[failtemp])\n",
    "print(Vs[failtemp])\n",
    "print(As[failtemp])\n",
    "print(envymap0[failtemp])"
   ]
  },
  {
   "cell_type": "code",
   "execution_count": null,
   "metadata": {},
   "outputs": [],
   "source": []
  }
 ],
 "metadata": {
  "kernelspec": {
   "display_name": "Python 3",
   "language": "python",
   "name": "python3"
  },
  "language_info": {
   "codemirror_mode": {
    "name": "ipython",
    "version": 3
   },
   "file_extension": ".py",
   "mimetype": "text/x-python",
   "name": "python",
   "nbconvert_exporter": "python",
   "pygments_lexer": "ipython3",
   "version": "3.6.5"
  }
 },
 "nbformat": 4,
 "nbformat_minor": 2
}
