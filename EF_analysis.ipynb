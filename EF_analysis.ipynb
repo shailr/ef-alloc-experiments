{
 "cells": [
  {
   "cell_type": "code",
   "execution_count": 1,
   "metadata": {},
   "outputs": [],
   "source": [
    "import os\n",
    "from sys import maxsize\n",
    "import numpy as np\n",
    "import matplotlib.pyplot as plt"
   ]
  },
  {
   "cell_type": "markdown",
   "metadata": {},
   "source": [
    "100 per file * 10 files"
   ]
  },
  {
   "cell_type": "code",
   "execution_count": 68,
   "metadata": {},
   "outputs": [],
   "source": [
    "def readdat(directory):\n",
    "    Us = []\n",
    "    Vs = []\n",
    "    As = []\n",
    "    \n",
    "    for filenum in range(10):\n",
    "        # print(directory + filename_pre + str(filenum))\n",
    "\n",
    "        with open(directory + filename_pre + str(filenum), 'r') as file:\n",
    "            for c in range(100):\n",
    "                line = file.readline().split()\n",
    "                # print(line)\n",
    "                u_size = (int(line[0]), int(line[1]))\n",
    "                utemp = []\n",
    "                for i in range(u_size[0]):\n",
    "                    utemp.append([float(x) for x in file.readline().split()])\n",
    "                Us.append(utemp)\n",
    "                # print(utemp)\n",
    "\n",
    "                line = file.readline().split()\n",
    "                # print(line)\n",
    "                v_size = (int(line[0]), int(line[1]))\n",
    "                vtemp = []\n",
    "                for i in range(v_size[0]):\n",
    "                    vtemp.append([float(x) for x in file.readline().split()])\n",
    "                Vs.append(vtemp)\n",
    "                # print(vtemp)\n",
    "\n",
    "                line = file.readline().split()\n",
    "                # print(line)\n",
    "                alloc_size = (int(line[0]), int(line[1]))\n",
    "                alloctemp = []\n",
    "                for i in range(alloc_size[0]):\n",
    "                    alloctemp.append([int(x) for x in file.readline().split()])\n",
    "                As.append(alloctemp)\n",
    "                # print(alloctemp)\n",
    "\n",
    "                line = file.readline()\n",
    "                # print(line)\n",
    "    return (Us, Vs, As)"
   ]
  },
  {
   "cell_type": "markdown",
   "metadata": {},
   "source": [
    "EF calculations"
   ]
  },
  {
   "cell_type": "code",
   "execution_count": 3,
   "metadata": {},
   "outputs": [],
   "source": [
    "additive_utililty = lambda alloc, utility : sum(np.array(alloc) * np.array(utility))\n",
    "\n",
    "def complementing_utility(alloc, utility, p_utility) :\n",
    "    pairwise_alloc = []\n",
    "    for i in range(0, len(alloc), 2):\n",
    "        pairwise_alloc.append(alloc[i] & alloc[i+1])\n",
    "    return additive_utililty(alloc, utility) + additive_utililty(pairwise_alloc, p_utility)\n",
    "\n",
    "def envyMap(allocs, utilities, p_utilities):\n",
    "    size_agents = np.array(allocs).shape[0]\n",
    "    envy_map = np.zeros((size_agents, size_agents))\n",
    "    for i in range(len(envy_map)):\n",
    "        for j in range(len(envy_map[i])):\n",
    "            envy_map[i][j] = complementing_utility(allocs[i], utilities[i], p_utilities[i]) \\\n",
    "            - complementing_utility(allocs[j], utilities[i], p_utilities[i])\n",
    "    return envy_map\n",
    "\n",
    "def envyMap_upto1(allocs, utilities, p_utilities):\n",
    "    size_agents = np.array(allocs).shape[0]\n",
    "    size_res = np.array(allocs).shape[1]\n",
    "    envy_map = np.zeros((size_agents, size_agents))\n",
    "    for i in range(len(envy_map)) :\n",
    "        for j in range(len(envy_map[i])):\n",
    "            envy_map[i][j] = complementing_utility(allocs[i], utilities[i], p_utilities[i]) \\\n",
    "            - complementing_utility(allocs[j], utilities[i], p_utilities[i])\n",
    "            if envy_map[i][j] < 0 :\n",
    "                envy_res_drop1_j = np.zeros(size_res)\n",
    "                max_pos_envy = - maxsize\n",
    "                for x in range(len(envy_res_drop1_j)) :\n",
    "                    new_alloc_j = list(allocs[j])\n",
    "                    new_alloc_j[x] = 0\n",
    "                    envy_res_drop1_j[x] = complementing_utility(allocs[i], utilities[i], p_utilities[i]) \\\n",
    "                    - complementing_utility(new_alloc_j, utilities[i], p_utilities[i])\n",
    "                    # print(envy_res_drop1_j)\n",
    "                    if envy_res_drop1_j[x] >= max_pos_envy:\n",
    "                        envy_map[i][j] = envy_res_drop1_j[x]\n",
    "                        max_pos_envy = envy_res_drop1_j[x]\n",
    "                \n",
    "    return envy_map\n",
    "\n",
    "def envyMap_upto2(allocs, utilities, p_utilities):\n",
    "    size_agents = np.array(allocs).shape[0]\n",
    "    size_res = np.array(allocs).shape[1]\n",
    "    envy_map = np.zeros((size_agents, size_agents))\n",
    "    for i in range(len(envy_map)) :\n",
    "        for j in range(len(envy_map[i])):\n",
    "            envy_map[i][j] = complementing_utility(allocs[i], utilities[i], p_utilities[i]) \\\n",
    "            - complementing_utility(allocs[j], utilities[i], p_utilities[i])\n",
    "            if envy_map[i][j] < 0 :\n",
    "                envy_res_drop1_j = np.zeros(size_res)\n",
    "                max_pos_envy = - maxsize\n",
    "                for x in range(len(envy_res_drop1_j)) :\n",
    "                    new_alloc_j = list(allocs[j])\n",
    "                    new_alloc_j[x] = 0\n",
    "                    envy_res_drop1_j[x] = complementing_utility(allocs[i], utilities[i], p_utilities[i]) \\\n",
    "                    - complementing_utility(new_alloc_j, utilities[i], p_utilities[i])\n",
    "                    # print(envy_res_drop1_j)\n",
    "                    if envy_res_drop1_j[x] >= max_pos_envy:\n",
    "                        envy_map[i][j] = envy_res_drop1_j[x]\n",
    "                        max_pos_envy = envy_res_drop1_j[x]\n",
    "                        if envy_map[i][j] < 0 :\n",
    "                            envy_res_drop2_j = np.zeros((size_res, size_res))\n",
    "                            max_pos_envy_drop2 = - maxsize\n",
    "                            for p in range(len(envy_res_drop2_j)):\n",
    "                                for q in range(len(envy_res_drop2_j[p])):\n",
    "                                    if p == q:\n",
    "                                        continue\n",
    "                                    new_alloc_j_drop2 = list(allocs[j])\n",
    "                                    new_alloc_j_drop2[p] = 0\n",
    "                                    new_alloc_j_drop2[q] = 0\n",
    "                                    envy_res_drop2_j[p][q] = complementing_utility(allocs[i], utilities[i], p_utilities[i]) \\\n",
    "                                    - complementing_utility(new_alloc_j_drop2, utilities[i], p_utilities[i])\n",
    "                                    if envy_res_drop2_j[p][q] >= max_pos_envy_drop2:\n",
    "                                        envy_map[i][j] = envy_res_drop2_j[p][q]\n",
    "                                        max_pos_envy_drop2 = envy_res_drop2_j[p][q]\n",
    "                \n",
    "    return envy_map"
   ]
  },
  {
   "cell_type": "code",
   "execution_count": 81,
   "metadata": {},
   "outputs": [],
   "source": [
    "def ef_percent(dir_name):\n",
    "    Us, Vs, As = readdat(dir_name)\n",
    "    Us = np.array(Us)\n",
    "    Vs = np.array(Vs)\n",
    "    As = np.array(As)\n",
    "    print(\"Us shape :\", Us.shape)\n",
    "    print(\"Vs shape :\", Vs.shape)\n",
    "    print(\"As shape :\", As.shape)\n",
    "    \n",
    "    ef_map = []\n",
    "    envymap0 = []\n",
    "    for i in range(1000):\n",
    "        envymaptemp = envyMap(As[i], Us[i], Vs[i])\n",
    "        envymap0.append(envymaptemp)\n",
    "        # print(envymaptemp)\n",
    "        ef_map.append(not bool(np.sum(envymaptemp<0)))\n",
    "\n",
    "    ef_map = np.array(ef_map)\n",
    "    envymap0 = np.array(envymap0)\n",
    "    # print(ef_map)\n",
    "    print(\"EF0 percent : \", np.sum(ef_map)/len(ef_map) * 100)\n",
    "\n",
    "    ef1_map = []\n",
    "    envymap1 = []\n",
    "    for i in range(1000):\n",
    "        envymaptemp = envyMap_upto1(As[i], Us[i], Vs[i])\n",
    "        envymap1.append(envymaptemp)\n",
    "        # print(envymaptemp)\n",
    "        ef1_map.append(not bool(np.sum(envymaptemp<0)))\n",
    "\n",
    "    ef1_map = np.array(ef1_map)\n",
    "    envymap1 = np.array(envymap1)\n",
    "    # print(ef_map)\n",
    "    print(\"EF1 percent : \", np.sum(ef1_map)/len(ef1_map) * 100)\n",
    "\n",
    "    ef2_map = []\n",
    "    envymap2 = []\n",
    "    for i in range(1000):\n",
    "        envymaptemp = envyMap_upto2(As[i], Us[i], Vs[i])\n",
    "        envymap2.append(envymaptemp)\n",
    "        # print(envymaptemp)\n",
    "        ef2_map.append(not bool(np.sum(envymaptemp<0)))\n",
    "\n",
    "    ef2_map = np.array(ef2_map)\n",
    "    envymap2 = np.array(envymap2)\n",
    "    # print(ef_map)\n",
    "    print(\"EF2 percent : \", np.sum(ef2_map)/len(ef2_map) * 100)\n",
    "    \n",
    "    print(\"Means: envy\")\n",
    "    print(np.mean(envymap0, axis=0))\n",
    "    print(np.mean(envymap1, axis=0))\n",
    "    print(np.mean(envymap2, axis=0))\n",
    "    \n",
    "    print(\"Means: max(0, envy)\")\n",
    "    print(np.mean(envymap0.clip(min=0), axis=0))\n",
    "    print(np.mean(envymap1.clip(min=0), axis=0))\n",
    "    print(np.mean(envymap2.clip(min=0), axis=0))\n",
    "        \n",
    "    print(\"Means: min(0, envy)\")\n",
    "    print(np.mean(envymap0.clip(max=0), axis=0))\n",
    "    print(np.mean(envymap1.clip(max=0), axis=0))\n",
    "    print(np.mean(envymap2.clip(max=0), axis=0))\n",
    "    \n",
    "    print(\"Stds\")\n",
    "    print(np.std(envymap0, axis=0))\n",
    "    print(np.std(envymap1, axis=0))\n",
    "    print(np.std(envymap2, axis=0))\n",
    "    \n",
    "    return (envymap0, envymap1, envymap2)\n"
   ]
  },
  {
   "cell_type": "markdown",
   "metadata": {},
   "source": [
    "For additive utilities"
   ]
  },
  {
   "cell_type": "code",
   "execution_count": 82,
   "metadata": {},
   "outputs": [],
   "source": [
    "dir_u_r10_u2 = \"/home/shail/work/UIC/ef-alloc-experiments/nash_allocs_random_u_r10_u2/\"\n",
    "dir_uv_r10_u2 = \"/home/shail/work/UIC/ef-alloc-experiments/nash_allocs_random_uv_r10_u2/\"\n",
    "\n",
    "dir_u_r4_u2 = \"/home/shail/work/UIC/ef-alloc-experiments/nash_allocs_random_u_r4_u2/\"\n",
    "dir_uv_r4_u2 = \"/home/shail/work/UIC/ef-alloc-experiments/nash_allocs_random_uv_r4_u2/\"\n",
    "\n",
    "dir_u_r6_u2 = \"/home/shail/work/UIC/ef-alloc-experiments/nash_allocs_random_u_r6_u2/\"\n",
    "dir_uv_r6_u2 = \"/home/shail/work/UIC/ef-alloc-experiments/nash_allocs_random_uv_r6_u2/\"\n",
    "\n",
    "dir_uv_r6_u4 = \"/home/shail/work/UIC/ef-alloc-experiments/nash_allocs_random_uv_r6_u4/\"\n",
    "\n",
    "dir_u_r8_u2 = \"/home/shail/work/UIC/ef-alloc-experiments/nash_allocs_random_u_r8_u2/\"\n",
    "dir_uv_r8_u2 = \"/home/shail/work/UIC/ef-alloc-experiments/nash_allocs_random_uv_r8_u2/\"\n",
    "\n",
    "filename_pre = \"nash_allocs_random_uv_1\""
   ]
  },
  {
   "cell_type": "markdown",
   "metadata": {},
   "source": [
    "For complementing utilities"
   ]
  },
  {
   "cell_type": "code",
   "execution_count": 8,
   "metadata": {},
   "outputs": [],
   "source": [
    "# failtemp = np.argwhere(ef1_map==False)[0][0]\n",
    "# print(failtemp)\n",
    "# print(Us[failtemp])\n",
    "# print(Vs[failtemp])\n",
    "# print(As[failtemp])\n",
    "# print(envymap1[failtemp])"
   ]
  },
  {
   "cell_type": "code",
   "execution_count": 84,
   "metadata": {
    "scrolled": false
   },
   "outputs": [
    {
     "name": "stdout",
     "output_type": "stream",
     "text": [
      "Us shape : (1000, 2, 10)\n",
      "Vs shape : (1000, 2, 5)\n",
      "As shape : (1000, 2, 10)\n",
      "EF0 percent :  99.9\n",
      "EF1 percent :  100.0\n",
      "EF2 percent :  100.0\n",
      "Means: envy\n",
      "[[  0.         156.83334623]\n",
      " [155.02036867   0.        ]]\n",
      "[[  0.         156.83334623]\n",
      " [155.11827364   0.        ]]\n",
      "[[  0.         156.83334623]\n",
      " [155.11827364   0.        ]]\n",
      "Means: max(0, envy)\n",
      "[[  0.         156.83334623]\n",
      " [155.02114089   0.        ]]\n",
      "[[  0.         156.83334623]\n",
      " [155.11827364   0.        ]]\n",
      "[[  0.         156.83334623]\n",
      " [155.11827364   0.        ]]\n",
      "Means: min(0, envy)\n",
      "[[ 0.          0.        ]\n",
      " [-0.00077223  0.        ]]\n",
      "[[0. 0.]\n",
      " [0. 0.]]\n",
      "[[0. 0.]\n",
      " [0. 0.]]\n",
      "Stds\n",
      "[[ 0.         68.37707329]\n",
      " [65.3157873   0.        ]]\n",
      "[[ 0.         68.37707329]\n",
      " [65.15536916  0.        ]]\n",
      "[[ 0.         68.37707329]\n",
      " [65.15536916  0.        ]]\n"
     ]
    }
   ],
   "source": [
    "(en0, en1, en2) = ef_percent(dir_u_r10_u2)"
   ]
  },
  {
   "cell_type": "code",
   "execution_count": 85,
   "metadata": {
    "scrolled": true
   },
   "outputs": [
    {
     "name": "stdout",
     "output_type": "stream",
     "text": [
      "Us shape : (1000, 2, 8)\n",
      "Vs shape : (1000, 2, 4)\n",
      "As shape : (1000, 2, 8)\n",
      "EF0 percent :  98.1\n",
      "EF1 percent :  100.0\n",
      "EF2 percent :  100.0\n",
      "Means: envy\n",
      "[[  0.         126.33334216]\n",
      " [122.9806306    0.        ]]\n",
      "[[  0.         127.21740552]\n",
      " [123.58211117   0.        ]]\n",
      "[[  0.         127.21740552]\n",
      " [123.58211117   0.        ]]\n",
      "Means: max(0, envy)\n",
      "[[  0.         126.48942761]\n",
      " [123.09040063   0.        ]]\n",
      "[[  0.         127.21740552]\n",
      " [123.58211117   0.        ]]\n",
      "[[  0.         127.21740552]\n",
      " [123.58211117   0.        ]]\n",
      "Means: min(0, envy)\n",
      "[[ 0.         -0.15608545]\n",
      " [-0.10977003  0.        ]]\n",
      "[[0. 0.]\n",
      " [0. 0.]]\n",
      "[[0. 0.]\n",
      " [0. 0.]]\n",
      "Stds\n",
      "[[ 0.        64.1111858]\n",
      " [62.878994   0.       ]]\n",
      "[[ 0.         62.71469491]\n",
      " [61.93159327  0.        ]]\n",
      "[[ 0.         62.71469491]\n",
      " [61.93159327  0.        ]]\n"
     ]
    }
   ],
   "source": [
    "(en0, en1, en2) = ef_percent(dir_u_r8_u2)"
   ]
  },
  {
   "cell_type": "code",
   "execution_count": 86,
   "metadata": {
    "scrolled": true
   },
   "outputs": [
    {
     "name": "stdout",
     "output_type": "stream",
     "text": [
      "Us shape : (1000, 2, 6)\n",
      "Vs shape : (1000, 2, 3)\n",
      "As shape : (1000, 2, 6)\n",
      "EF0 percent :  93.5\n",
      "EF1 percent :  100.0\n",
      "EF2 percent :  100.0\n",
      "Means: envy\n",
      "[[ 0.         91.35345389]\n",
      " [88.96794779  0.        ]]\n",
      "[[ 0.         94.27388561]\n",
      " [91.05224569  0.        ]]\n",
      "[[ 0.         94.27388561]\n",
      " [91.05224569  0.        ]]\n",
      "Means: max(0, envy)\n",
      "[[ 0.         91.77398598]\n",
      " [89.44611016  0.        ]]\n",
      "[[ 0.         94.27388561]\n",
      " [91.05224569  0.        ]]\n",
      "[[ 0.         94.27388561]\n",
      " [91.05224569  0.        ]]\n",
      "Means: min(0, envy)\n",
      "[[ 0.         -0.42053209]\n",
      " [-0.47816237  0.        ]]\n",
      "[[0. 0.]\n",
      " [0. 0.]]\n",
      "[[0. 0.]\n",
      " [0. 0.]]\n",
      "Stds\n",
      "[[ 0.         55.49371266]\n",
      " [53.04071767  0.        ]]\n",
      "[[ 0.         52.00652743]\n",
      " [50.2832711   0.        ]]\n",
      "[[ 0.         52.00652743]\n",
      " [50.2832711   0.        ]]\n"
     ]
    }
   ],
   "source": [
    "(en0, en1, en2) = ef_percent(dir_u_r6_u2)"
   ]
  },
  {
   "cell_type": "code",
   "execution_count": 87,
   "metadata": {
    "scrolled": true
   },
   "outputs": [
    {
     "name": "stdout",
     "output_type": "stream",
     "text": [
      "Us shape : (1000, 2, 4)\n",
      "Vs shape : (1000, 2, 2)\n",
      "As shape : (1000, 2, 4)\n",
      "EF0 percent :  77.10000000000001\n",
      "EF1 percent :  100.0\n",
      "EF2 percent :  100.0\n",
      "Means: envy\n",
      "[[ 0.         56.20214644]\n",
      " [56.41082445  0.        ]]\n",
      "[[ 0.         65.47889405]\n",
      " [64.33766935  0.        ]]\n",
      "[[ 0.         65.47889405]\n",
      " [64.33766935  0.        ]]\n",
      "Means: max(0, envy)\n",
      "[[ 0.         58.45416904]\n",
      " [58.44216028  0.        ]]\n",
      "[[ 0.         65.47889405]\n",
      " [64.33766935  0.        ]]\n",
      "[[ 0.         65.47889405]\n",
      " [64.33766935  0.        ]]\n",
      "Means: min(0, envy)\n",
      "[[ 0.         -2.2520226 ]\n",
      " [-2.03133583  0.        ]]\n",
      "[[0. 0.]\n",
      " [0. 0.]]\n",
      "[[0. 0.]\n",
      " [0. 0.]]\n",
      "Stds\n",
      "[[ 0.         47.97520014]\n",
      " [45.98858705  0.        ]]\n",
      "[[ 0.         39.40358954]\n",
      " [38.34352994  0.        ]]\n",
      "[[ 0.         39.40358954]\n",
      " [38.34352994  0.        ]]\n"
     ]
    }
   ],
   "source": [
    "(en0, en1, en2) = ef_percent(dir_u_r4_u2)"
   ]
  },
  {
   "cell_type": "code",
   "execution_count": 88,
   "metadata": {
    "scrolled": true
   },
   "outputs": [
    {
     "name": "stdout",
     "output_type": "stream",
     "text": [
      "Us shape : (1000, 2, 10)\n",
      "Vs shape : (1000, 2, 5)\n",
      "As shape : (1000, 2, 10)\n",
      "EF0 percent :  75.7\n",
      "EF1 percent :  99.9\n",
      "EF2 percent :  100.0\n",
      "Means: envy\n",
      "[[  0.         137.73304048]\n",
      " [134.82639453   0.        ]]\n",
      "[[  0.         153.9664558 ]\n",
      " [152.27546644   0.        ]]\n",
      "[[  0.         154.10125936]\n",
      " [152.27546644   0.        ]]\n",
      "Means: max(0, envy)\n",
      "[[  0.         142.92624834]\n",
      " [140.11198442   0.        ]]\n",
      "[[  0.         153.99764655]\n",
      " [152.27546644   0.        ]]\n",
      "[[  0.         154.10125936]\n",
      " [152.27546644   0.        ]]\n",
      "Means: min(0, envy)\n",
      "[[ 0.         -5.19320787]\n",
      " [-5.2855899   0.        ]]\n",
      "[[ 0.         -0.03119075]\n",
      " [ 0.          0.        ]]\n",
      "[[0. 0.]\n",
      " [0. 0.]]\n",
      "Stds\n",
      "[[  0.         113.72814897]\n",
      " [110.42648228   0.        ]]\n",
      "[[ 0.         94.89523649]\n",
      " [90.41461064  0.        ]]\n",
      "[[ 0.         94.72771526]\n",
      " [90.41461064  0.        ]]\n"
     ]
    }
   ],
   "source": [
    "(en0, en1, en2) = ef_percent(dir_uv_r10_u2)"
   ]
  },
  {
   "cell_type": "code",
   "execution_count": 89,
   "metadata": {},
   "outputs": [
    {
     "name": "stdout",
     "output_type": "stream",
     "text": [
      "Us shape : (1000, 2, 8)\n",
      "Vs shape : (1000, 2, 4)\n",
      "As shape : (1000, 2, 8)\n",
      "EF0 percent :  77.8\n",
      "EF1 percent :  100.0\n",
      "EF2 percent :  100.0\n",
      "Means: envy\n",
      "[[  0.         104.18248343]\n",
      " [104.58306424   0.        ]]\n",
      "[[  0.         119.98533569]\n",
      " [120.19430845   0.        ]]\n",
      "[[  0.         119.98533569]\n",
      " [120.19430845   0.        ]]\n",
      "Means: max(0, envy)\n",
      "[[  0.         107.76165509]\n",
      " [108.48607588   0.        ]]\n",
      "[[  0.         119.98533569]\n",
      " [120.19430845   0.        ]]\n",
      "[[  0.         119.98533569]\n",
      " [120.19430845   0.        ]]\n",
      "Means: min(0, envy)\n",
      "[[ 0.         -3.57917165]\n",
      " [-3.90301165  0.        ]]\n",
      "[[0. 0.]\n",
      " [0. 0.]]\n",
      "[[0. 0.]\n",
      " [0. 0.]]\n",
      "Stds\n",
      "[[ 0.         88.75492692]\n",
      " [87.87904888  0.        ]]\n",
      "[[ 0.         74.70661871]\n",
      " [73.26920199  0.        ]]\n",
      "[[ 0.         74.70661871]\n",
      " [73.26920199  0.        ]]\n"
     ]
    }
   ],
   "source": [
    "(en0, en1, en2) = ef_percent(dir_uv_r8_u2)"
   ]
  },
  {
   "cell_type": "code",
   "execution_count": 90,
   "metadata": {},
   "outputs": [
    {
     "name": "stdout",
     "output_type": "stream",
     "text": [
      "Us shape : (1000, 2, 6)\n",
      "Vs shape : (1000, 2, 3)\n",
      "As shape : (1000, 2, 6)\n",
      "EF0 percent :  48.699999999999996\n",
      "EF1 percent :  98.0\n",
      "EF2 percent :  100.0\n",
      "Means: envy\n",
      "[[ 0.         83.02162873]\n",
      " [74.47077309  0.        ]]\n",
      "[[  0.         113.55231673]\n",
      " [107.61388393   0.        ]]\n",
      "[[  0.        114.2853773]\n",
      " [109.0396012   0.       ]]\n",
      "Means: max(0, envy)\n",
      "[[ 0.         96.76593419]\n",
      " [90.96291689  0.        ]]\n",
      "[[  0.         113.64229644]\n",
      " [107.8225121    0.        ]]\n",
      "[[  0.        114.2853773]\n",
      " [109.0396012   0.       ]]\n",
      "Means: min(0, envy)\n",
      "[[  0.         -13.74430546]\n",
      " [-16.4921438    0.        ]]\n",
      "[[ 0.         -0.08997971]\n",
      " [-0.20862817  0.        ]]\n",
      "[[0. 0.]\n",
      " [0. 0.]]\n",
      "Stds\n",
      "[[  0.         107.64191776]\n",
      " [109.58075385   0.        ]]\n",
      "[[ 0.         76.93305499]\n",
      " [76.92012276  0.        ]]\n",
      "[[ 0.         76.22673622]\n",
      " [75.6337297   0.        ]]\n"
     ]
    }
   ],
   "source": [
    "(en0, en1, en2) = ef_percent(dir_uv_r6_u2)"
   ]
  },
  {
   "cell_type": "code",
   "execution_count": null,
   "metadata": {},
   "outputs": [
    {
     "name": "stdout",
     "output_type": "stream",
     "text": [
      "Us shape : (1000, 4, 6)\n",
      "Vs shape : (1000, 4, 3)\n",
      "As shape : (1000, 4, 6)\n",
      "EF0 percent :  0.3\n",
      "EF1 percent :  95.7\n"
     ]
    }
   ],
   "source": [
    "(en0, en1, en2) = ef_percent(dir_uv_r6_u4)"
   ]
  },
  {
   "cell_type": "code",
   "execution_count": 77,
   "metadata": {},
   "outputs": [
    {
     "name": "stdout",
     "output_type": "stream",
     "text": [
      "Us shape : (1000, 2, 4)\n",
      "Vs shape : (1000, 2, 2)\n",
      "As shape : (1000, 2, 4)\n",
      "EF0 percent :  51.5\n",
      "EF1 percent :  99.9\n",
      "EF2 percent :  100.0\n",
      "Means\n",
      "[[ 0.         44.52326596]\n",
      " [41.32370711  0.        ]]\n",
      "[[ 0.         75.12509966]\n",
      " [74.61377435  0.        ]]\n",
      "[[ 0.         75.12509966]\n",
      " [74.67106896  0.        ]]\n",
      "Stds\n",
      "[[ 0.         62.65301931]\n",
      " [59.70746581  0.        ]]\n",
      "[[ 0.         46.02593862]\n",
      " [44.43850919  0.        ]]\n",
      "[[ 0.         46.02593862]\n",
      " [44.3773552   0.        ]]\n"
     ]
    }
   ],
   "source": [
    "(en0, en1, en2) = ef_percent(dir_uv_r4_u2)"
   ]
  }
 ],
 "metadata": {
  "kernelspec": {
   "display_name": "Python 3",
   "language": "python",
   "name": "python3"
  },
  "language_info": {
   "codemirror_mode": {
    "name": "ipython",
    "version": 3
   },
   "file_extension": ".py",
   "mimetype": "text/x-python",
   "name": "python",
   "nbconvert_exporter": "python",
   "pygments_lexer": "ipython3",
   "version": "3.6.5"
  }
 },
 "nbformat": 4,
 "nbformat_minor": 2
}
