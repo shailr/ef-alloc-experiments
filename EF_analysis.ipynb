{
 "cells": [
  {
   "cell_type": "code",
   "execution_count": 1,
   "metadata": {},
   "outputs": [],
   "source": [
    "import os\n",
    "from sys import maxsize\n",
    "import numpy as np\n",
    "import matplotlib.pyplot as plt\n",
    "from utils.filerw import readdat\n",
    "import importlib\n",
    "import utils.efcalcs as efcalcs\n",
    "# import ef_percent"
   ]
  },
  {
   "cell_type": "code",
   "execution_count": 5,
   "metadata": {},
   "outputs": [
    {
     "data": {
      "text/plain": [
       "<module 'utils.efcalcs' from '/home/shail/work/UIC/ef-alloc-experiments/utils/efcalcs.py'>"
      ]
     },
     "execution_count": 5,
     "metadata": {},
     "output_type": "execute_result"
    }
   ],
   "source": [
    "importlib.reload(efcalcs)"
   ]
  },
  {
   "cell_type": "markdown",
   "metadata": {},
   "source": [
    "100 per file * 10 files"
   ]
  },
  {
   "cell_type": "code",
   "execution_count": 2,
   "metadata": {},
   "outputs": [],
   "source": [
    "dir_u_r10_u2 = \"/home/shail/work/UIC/ef-alloc-experiments/nash_allocs_random_u_r10_u2/\"\n",
    "dir_uv_r10_u2 = \"/home/shail/work/UIC/ef-alloc-experiments/nash_allocs_random_uv_r10_u2/\"\n",
    "\n",
    "dir_u_r4_u2 = \"/home/shail/work/UIC/ef-alloc-experiments/nash_allocs_random_u_r4_u2/\"\n",
    "dir_uv_r4_u2 = \"/home/shail/work/UIC/ef-alloc-experiments/nash_allocs_random_uv_r4_u2/\"\n",
    "\n",
    "dir_u_r6_u2 = \"/home/shail/work/UIC/ef-alloc-experiments/nash_allocs_random_u_r6_u2/\"\n",
    "dir_uv_r6_u2 = \"/home/shail/work/UIC/ef-alloc-experiments/nash_allocs_random_uv_r6_u2/\"\n",
    "\n",
    "dir_uv_r6_u4 = \"/home/shail/work/UIC/ef-alloc-experiments/nash_allocs_random_uv_r6_u4/\"\n",
    "\n",
    "dir_u_r8_u2 = \"/home/shail/work/UIC/ef-alloc-experiments/nash_allocs_random_u_r8_u2/\"\n",
    "dir_uv_r8_u2 = \"/home/shail/work/UIC/ef-alloc-experiments/nash_allocs_random_uv_r8_u2/\"\n",
    "\n"
   ]
  },
  {
   "cell_type": "code",
   "execution_count": 3,
   "metadata": {},
   "outputs": [],
   "source": [
    "# failtemp = np.argwhere(ef1_map==False)[0][0]\n",
    "# print(failtemp)\n",
    "# print(Us[failtemp])\n",
    "# print(Vs[failtemp])\n",
    "# print(As[failtemp])\n",
    "# print(envymap1[failtemp])"
   ]
  },
  {
   "cell_type": "code",
   "execution_count": 6,
   "metadata": {
    "scrolled": false
   },
   "outputs": [
    {
     "name": "stdout",
     "output_type": "stream",
     "text": [
      "Us shape : (1000, 2, 10)\n",
      "Vs shape : (1000, 2, 5)\n",
      "As shape : (1000, 2, 10)\n",
      "EF0 percent :  99.9\n",
      "EF1 percent :  100.0\n",
      "EF2 percent :  100.0\n",
      "Means: envy\n",
      "[[  0.         156.83334623]\n",
      " [155.02036867   0.        ]]\n",
      "[[  0.         156.83334623]\n",
      " [155.11827364   0.        ]]\n",
      "[[  0.         156.83334623]\n",
      " [155.11827364   0.        ]]\n",
      "Means: max(0, envy)\n",
      "[[  0.         156.83334623]\n",
      " [155.02114089   0.        ]]\n",
      "[[  0.         156.83334623]\n",
      " [155.11827364   0.        ]]\n",
      "[[  0.         156.83334623]\n",
      " [155.11827364   0.        ]]\n",
      "Means: min(0, envy)\n",
      "[[ 0.          0.        ]\n",
      " [-0.00077223  0.        ]]\n",
      "[[0. 0.]\n",
      " [0. 0.]]\n",
      "[[0. 0.]\n",
      " [0. 0.]]\n",
      "Stds\n",
      "[[ 0.         68.37707329]\n",
      " [65.3157873   0.        ]]\n",
      "[[ 0.         68.37707329]\n",
      " [65.15536916  0.        ]]\n",
      "[[ 0.         68.37707329]\n",
      " [65.15536916  0.        ]]\n"
     ]
    }
   ],
   "source": [
    "(en0, en1, en2) = efcalcs.ef_percent(dir_u_r10_u2)"
   ]
  },
  {
   "cell_type": "code",
   "execution_count": 8,
   "metadata": {
    "scrolled": true
   },
   "outputs": [
    {
     "name": "stdout",
     "output_type": "stream",
     "text": [
      "Us shape : (1000, 2, 8)\n",
      "Vs shape : (1000, 2, 4)\n",
      "As shape : (1000, 2, 8)\n",
      "EF0 percent :  98.1\n",
      "EF1 percent :  100.0\n",
      "EF2 percent :  100.0\n",
      "Means: envy\n",
      "[[  0.         126.33334216]\n",
      " [122.9806306    0.        ]]\n",
      "[[  0.         127.21740552]\n",
      " [123.58211117   0.        ]]\n",
      "[[  0.         127.21740552]\n",
      " [123.58211117   0.        ]]\n",
      "Means: max(0, envy)\n",
      "[[  0.         126.48942761]\n",
      " [123.09040063   0.        ]]\n",
      "[[  0.         127.21740552]\n",
      " [123.58211117   0.        ]]\n",
      "[[  0.         127.21740552]\n",
      " [123.58211117   0.        ]]\n",
      "Means: min(0, envy)\n",
      "[[ 0.         -0.15608545]\n",
      " [-0.10977003  0.        ]]\n",
      "[[0. 0.]\n",
      " [0. 0.]]\n",
      "[[0. 0.]\n",
      " [0. 0.]]\n",
      "Stds\n",
      "[[ 0.        64.1111858]\n",
      " [62.878994   0.       ]]\n",
      "[[ 0.         62.71469491]\n",
      " [61.93159327  0.        ]]\n",
      "[[ 0.         62.71469491]\n",
      " [61.93159327  0.        ]]\n"
     ]
    }
   ],
   "source": [
    "(en0, en1, en2) = efcalcs.ef_percent(dir_u_r8_u2)"
   ]
  },
  {
   "cell_type": "code",
   "execution_count": 11,
   "metadata": {
    "scrolled": true
   },
   "outputs": [
    {
     "name": "stdout",
     "output_type": "stream",
     "text": [
      "Us shape : (1000, 2, 6)\n",
      "Vs shape : (1000, 2, 3)\n",
      "As shape : (1000, 2, 6)\n",
      "EF0 percent :  93.5\n",
      "EF1 percent :  100.0\n",
      "EF2 percent :  100.0\n",
      "Means: envy\n",
      "[[ 0.         91.35345389]\n",
      " [88.96794779  0.        ]]\n",
      "[[ 0.         94.27388561]\n",
      " [91.05224569  0.        ]]\n",
      "[[ 0.         94.27388561]\n",
      " [91.05224569  0.        ]]\n",
      "Means: max(0, envy)\n",
      "[[ 0.         91.77398598]\n",
      " [89.44611016  0.        ]]\n",
      "[[ 0.         94.27388561]\n",
      " [91.05224569  0.        ]]\n",
      "[[ 0.         94.27388561]\n",
      " [91.05224569  0.        ]]\n",
      "Means: min(0, envy)\n",
      "[[ 0.         -0.42053209]\n",
      " [-0.47816237  0.        ]]\n",
      "[[0. 0.]\n",
      " [0. 0.]]\n",
      "[[0. 0.]\n",
      " [0. 0.]]\n",
      "Stds\n",
      "[[ 0.         55.49371266]\n",
      " [53.04071767  0.        ]]\n",
      "[[ 0.         52.00652743]\n",
      " [50.2832711   0.        ]]\n",
      "[[ 0.         52.00652743]\n",
      " [50.2832711   0.        ]]\n"
     ]
    }
   ],
   "source": [
    "(en0, en1, en2) = efcalcs.ef_percent(dir_u_r6_u2)"
   ]
  },
  {
   "cell_type": "code",
   "execution_count": 12,
   "metadata": {
    "scrolled": true
   },
   "outputs": [
    {
     "name": "stdout",
     "output_type": "stream",
     "text": [
      "Us shape : (1000, 2, 4)\n",
      "Vs shape : (1000, 2, 2)\n",
      "As shape : (1000, 2, 4)\n",
      "EF0 percent :  77.10000000000001\n",
      "EF1 percent :  100.0\n",
      "EF2 percent :  100.0\n",
      "Means: envy\n",
      "[[ 0.         56.20214644]\n",
      " [56.41082445  0.        ]]\n",
      "[[ 0.         65.47889405]\n",
      " [64.33766935  0.        ]]\n",
      "[[ 0.         65.47889405]\n",
      " [64.33766935  0.        ]]\n",
      "Means: max(0, envy)\n",
      "[[ 0.         58.45416904]\n",
      " [58.44216028  0.        ]]\n",
      "[[ 0.         65.47889405]\n",
      " [64.33766935  0.        ]]\n",
      "[[ 0.         65.47889405]\n",
      " [64.33766935  0.        ]]\n",
      "Means: min(0, envy)\n",
      "[[ 0.         -2.2520226 ]\n",
      " [-2.03133583  0.        ]]\n",
      "[[0. 0.]\n",
      " [0. 0.]]\n",
      "[[0. 0.]\n",
      " [0. 0.]]\n",
      "Stds\n",
      "[[ 0.         47.97520014]\n",
      " [45.98858705  0.        ]]\n",
      "[[ 0.         39.40358954]\n",
      " [38.34352994  0.        ]]\n",
      "[[ 0.         39.40358954]\n",
      " [38.34352994  0.        ]]\n"
     ]
    }
   ],
   "source": [
    "(en0, en1, en2) = efcalcs.ef_percent(dir_u_r4_u2)"
   ]
  },
  {
   "cell_type": "code",
   "execution_count": 13,
   "metadata": {
    "scrolled": true
   },
   "outputs": [
    {
     "name": "stdout",
     "output_type": "stream",
     "text": [
      "Us shape : (1000, 2, 10)\n",
      "Vs shape : (1000, 2, 5)\n",
      "As shape : (1000, 2, 10)\n",
      "EF0 percent :  75.7\n",
      "EF1 percent :  99.9\n",
      "EF2 percent :  100.0\n",
      "Means: envy\n",
      "[[  0.         137.73304048]\n",
      " [134.82639453   0.        ]]\n",
      "[[  0.         153.9664558 ]\n",
      " [152.27546644   0.        ]]\n",
      "[[  0.         154.10125936]\n",
      " [152.27546644   0.        ]]\n",
      "Means: max(0, envy)\n",
      "[[  0.         142.92624834]\n",
      " [140.11198442   0.        ]]\n",
      "[[  0.         153.99764655]\n",
      " [152.27546644   0.        ]]\n",
      "[[  0.         154.10125936]\n",
      " [152.27546644   0.        ]]\n",
      "Means: min(0, envy)\n",
      "[[ 0.         -5.19320787]\n",
      " [-5.2855899   0.        ]]\n",
      "[[ 0.         -0.03119075]\n",
      " [ 0.          0.        ]]\n",
      "[[0. 0.]\n",
      " [0. 0.]]\n",
      "Stds\n",
      "[[  0.         113.72814897]\n",
      " [110.42648228   0.        ]]\n",
      "[[ 0.         94.89523649]\n",
      " [90.41461064  0.        ]]\n",
      "[[ 0.         94.72771526]\n",
      " [90.41461064  0.        ]]\n"
     ]
    }
   ],
   "source": [
    "(en0, en1, en2) = efcalcs.ef_percent(dir_uv_r10_u2)"
   ]
  },
  {
   "cell_type": "code",
   "execution_count": 14,
   "metadata": {},
   "outputs": [
    {
     "name": "stdout",
     "output_type": "stream",
     "text": [
      "Us shape : (1000, 2, 8)\n",
      "Vs shape : (1000, 2, 4)\n",
      "As shape : (1000, 2, 8)\n",
      "EF0 percent :  77.8\n",
      "EF1 percent :  100.0\n",
      "EF2 percent :  100.0\n",
      "Means: envy\n",
      "[[  0.         104.18248343]\n",
      " [104.58306424   0.        ]]\n",
      "[[  0.         119.98533569]\n",
      " [120.19430845   0.        ]]\n",
      "[[  0.         119.98533569]\n",
      " [120.19430845   0.        ]]\n",
      "Means: max(0, envy)\n",
      "[[  0.         107.76165509]\n",
      " [108.48607588   0.        ]]\n",
      "[[  0.         119.98533569]\n",
      " [120.19430845   0.        ]]\n",
      "[[  0.         119.98533569]\n",
      " [120.19430845   0.        ]]\n",
      "Means: min(0, envy)\n",
      "[[ 0.         -3.57917165]\n",
      " [-3.90301165  0.        ]]\n",
      "[[0. 0.]\n",
      " [0. 0.]]\n",
      "[[0. 0.]\n",
      " [0. 0.]]\n",
      "Stds\n",
      "[[ 0.         88.75492692]\n",
      " [87.87904888  0.        ]]\n",
      "[[ 0.         74.70661871]\n",
      " [73.26920199  0.        ]]\n",
      "[[ 0.         74.70661871]\n",
      " [73.26920199  0.        ]]\n"
     ]
    }
   ],
   "source": [
    "(en0, en1, en2) = efcalcs.ef_percent(dir_uv_r8_u2)"
   ]
  },
  {
   "cell_type": "code",
   "execution_count": 15,
   "metadata": {},
   "outputs": [
    {
     "name": "stdout",
     "output_type": "stream",
     "text": [
      "Us shape : (1000, 2, 6)\n",
      "Vs shape : (1000, 2, 3)\n",
      "As shape : (1000, 2, 6)\n",
      "EF0 percent :  48.699999999999996\n",
      "EF1 percent :  98.0\n",
      "EF2 percent :  100.0\n",
      "Means: envy\n",
      "[[ 0.         83.02162873]\n",
      " [74.47077309  0.        ]]\n",
      "[[  0.         113.55231673]\n",
      " [107.61388393   0.        ]]\n",
      "[[  0.        114.2853773]\n",
      " [109.0396012   0.       ]]\n",
      "Means: max(0, envy)\n",
      "[[ 0.         96.76593419]\n",
      " [90.96291689  0.        ]]\n",
      "[[  0.         113.64229644]\n",
      " [107.8225121    0.        ]]\n",
      "[[  0.        114.2853773]\n",
      " [109.0396012   0.       ]]\n",
      "Means: min(0, envy)\n",
      "[[  0.         -13.74430546]\n",
      " [-16.4921438    0.        ]]\n",
      "[[ 0.         -0.08997971]\n",
      " [-0.20862817  0.        ]]\n",
      "[[0. 0.]\n",
      " [0. 0.]]\n",
      "Stds\n",
      "[[  0.         107.64191776]\n",
      " [109.58075385   0.        ]]\n",
      "[[ 0.         76.93305499]\n",
      " [76.92012276  0.        ]]\n",
      "[[ 0.         76.22673622]\n",
      " [75.6337297   0.        ]]\n"
     ]
    }
   ],
   "source": [
    "(en0, en1, en2) = efcalcs.ef_percent(dir_uv_r6_u2)"
   ]
  },
  {
   "cell_type": "code",
   "execution_count": 16,
   "metadata": {},
   "outputs": [
    {
     "name": "stdout",
     "output_type": "stream",
     "text": [
      "Us shape : (1000, 4, 6)\n",
      "Vs shape : (1000, 4, 3)\n",
      "As shape : (1000, 4, 6)\n",
      "EF0 percent :  0.3\n",
      "EF1 percent :  95.7\n",
      "EF2 percent :  100.0\n",
      "Means: envy\n",
      "[[ 0.         52.51730648 48.91861583 54.00261447]\n",
      " [46.0726181   0.         45.98897767 51.62481001]\n",
      " [50.31942959 52.36255125  0.         54.82918477]\n",
      " [48.17590826 44.55010919 42.30215229  0.        ]]\n",
      "[[ 0.         88.19108773 86.43368698 88.07603677]\n",
      " [81.45986335  0.         84.66046425 85.56435453]\n",
      " [87.48920031 87.03391533  0.         87.43552002]\n",
      " [82.5407319  83.74663431 81.32441201  0.        ]]\n",
      "[[ 0.         88.4330209  86.65376388 88.23222813]\n",
      " [81.6975953   0.         85.26887626 86.05886928]\n",
      " [87.8267959  87.11447923  0.         87.64707287]\n",
      " [82.83063933 84.15395885 81.49152848  0.        ]]\n",
      "Means: max(0, envy)\n",
      "[[ 0.         69.29593196 67.74162881 69.86653396]\n",
      " [64.33808956  0.         64.83052735 68.85348643]\n",
      " [68.75602495 69.33144748  0.         70.5760539 ]\n",
      " [64.64755585 64.7282923  61.82426236  0.        ]]\n",
      "[[ 0.         88.20022587 86.46384874 88.09088928]\n",
      " [81.47793959  0.         84.72242979 85.58926214]\n",
      " [87.52945729 87.03987734  0.         87.4601878 ]\n",
      " [82.57340994 83.81149302 81.35043351  0.        ]]\n",
      "[[ 0.         88.4330209  86.65376388 88.23222813]\n",
      " [81.6975953   0.         85.26887626 86.05886928]\n",
      " [87.8267959  87.11447923  0.         87.64707287]\n",
      " [82.83063933 84.15395885 81.49152848  0.        ]]\n",
      "Means: min(0, envy)\n",
      "[[  0.         -16.77862548 -18.82301298 -15.86391948]\n",
      " [-18.26547146   0.         -18.84154968 -17.22867643]\n",
      " [-18.43659536 -16.96889623   0.         -15.74686913]\n",
      " [-16.47164759 -20.17818311 -19.52211007   0.        ]]\n",
      "[[ 0.         -0.00913814 -0.03016176 -0.01485251]\n",
      " [-0.01807624  0.         -0.06196554 -0.02490761]\n",
      " [-0.04025699 -0.00596201  0.         -0.02466778]\n",
      " [-0.03267804 -0.06485872 -0.0260215   0.        ]]\n",
      "[[0. 0. 0. 0.]\n",
      " [0. 0. 0. 0.]\n",
      " [0. 0. 0. 0.]\n",
      " [0. 0. 0. 0.]]\n",
      "Stds\n",
      "[[ 0.         90.53421108 92.1886652  90.50747734]\n",
      " [88.35134336  0.         91.28859427 90.48156016]\n",
      " [92.04310326 90.56723761  0.         89.85814541]\n",
      " [87.12171845 93.29453416 90.35982124  0.        ]]\n",
      "[[ 0.         56.93519695 56.51908865 58.50104503]\n",
      " [54.46963492  0.         56.63365672 56.818472  ]\n",
      " [56.51433273 56.75911747  0.         57.93388611]\n",
      " [55.48122593 56.89661101 55.98382747  0.        ]]\n",
      "[[ 0.         56.71907266 56.28551463 58.35003501]\n",
      " [54.26121774  0.         56.04995873 56.39446335]\n",
      " [56.18161296 56.68418861  0.         57.71806444]\n",
      " [55.19787515 56.45759643 55.82945969  0.        ]]\n"
     ]
    }
   ],
   "source": [
    "(en0, en1, en2) = efcalcs.ef_percent(dir_uv_r6_u4)"
   ]
  },
  {
   "cell_type": "code",
   "execution_count": 17,
   "metadata": {},
   "outputs": [
    {
     "name": "stdout",
     "output_type": "stream",
     "text": [
      "Us shape : (1000, 2, 4)\n",
      "Vs shape : (1000, 2, 2)\n",
      "As shape : (1000, 2, 4)\n",
      "EF0 percent :  51.5\n",
      "EF1 percent :  99.9\n",
      "EF2 percent :  100.0\n",
      "Means: envy\n",
      "[[ 0.         44.52326596]\n",
      " [41.32370711  0.        ]]\n",
      "[[ 0.         75.12509966]\n",
      " [74.61377435  0.        ]]\n",
      "[[ 0.         75.12509966]\n",
      " [74.67106896  0.        ]]\n",
      "Means: max(0, envy)\n",
      "[[ 0.         53.08134235]\n",
      " [49.65425577  0.        ]]\n",
      "[[ 0.         75.12509966]\n",
      " [74.61517849  0.        ]]\n",
      "[[ 0.         75.12509966]\n",
      " [74.67106896  0.        ]]\n",
      "Means: min(0, envy)\n",
      "[[ 0.         -8.55807639]\n",
      " [-8.33054866  0.        ]]\n",
      "[[ 0.          0.        ]\n",
      " [-0.00140414  0.        ]]\n",
      "[[0. 0.]\n",
      " [0. 0.]]\n",
      "Stds\n",
      "[[ 0.         62.65301931]\n",
      " [59.70746581  0.        ]]\n",
      "[[ 0.         46.02593862]\n",
      " [44.43850919  0.        ]]\n",
      "[[ 0.         46.02593862]\n",
      " [44.3773552   0.        ]]\n"
     ]
    }
   ],
   "source": [
    "(en0, en1, en2) = efcalcs.ef_percent(dir_uv_r4_u2)"
   ]
  }
 ],
 "metadata": {
  "kernelspec": {
   "display_name": "Python 3",
   "language": "python",
   "name": "python3"
  },
  "language_info": {
   "codemirror_mode": {
    "name": "ipython",
    "version": 3
   },
   "file_extension": ".py",
   "mimetype": "text/x-python",
   "name": "python",
   "nbconvert_exporter": "python",
   "pygments_lexer": "ipython3",
   "version": "3.6.5"
  }
 },
 "nbformat": 4,
 "nbformat_minor": 2
}
