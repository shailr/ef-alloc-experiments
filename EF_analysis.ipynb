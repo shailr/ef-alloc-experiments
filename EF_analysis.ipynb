{
 "cells": [
  {
   "cell_type": "code",
   "execution_count": 29,
   "metadata": {},
   "outputs": [],
   "source": [
    "import os\n",
    "from sys import maxsize\n",
    "import numpy as np\n",
    "import matplotlib.pyplot as plt"
   ]
  },
  {
   "cell_type": "markdown",
   "metadata": {},
   "source": [
    "100 per file * 10 files"
   ]
  },
  {
   "cell_type": "code",
   "execution_count": 31,
   "metadata": {},
   "outputs": [],
   "source": [
    "def readdat(directory):\n",
    "    Us = []\n",
    "    Vs = []\n",
    "    As = []\n",
    "    \n",
    "    for filenum in range(10):\n",
    "        print(directory + filename_pre + str(filenum))\n",
    "\n",
    "        with open(directory + filename_pre + str(filenum), 'r') as file:\n",
    "            for c in range(100):\n",
    "                line = file.readline().split()\n",
    "                # print(line)\n",
    "                u_size = (int(line[0]), int(line[1]))\n",
    "                utemp = []\n",
    "                for i in range(u_size[0]):\n",
    "                    utemp.append([float(x) for x in file.readline().split()])\n",
    "                Us.append(utemp)\n",
    "                # print(utemp)\n",
    "\n",
    "                line = file.readline().split()\n",
    "                # print(line)\n",
    "                v_size = (int(line[0]), int(line[1]))\n",
    "                vtemp = []\n",
    "                for i in range(v_size[0]):\n",
    "                    vtemp.append([float(x) for x in file.readline().split()])\n",
    "                Vs.append(vtemp)\n",
    "                # print(vtemp)\n",
    "\n",
    "                line = file.readline().split()\n",
    "                # print(line)\n",
    "                alloc_size = (int(line[0]), int(line[1]))\n",
    "                alloctemp = []\n",
    "                for i in range(alloc_size[0]):\n",
    "                    alloctemp.append([int(x) for x in file.readline().split()])\n",
    "                As.append(alloctemp)\n",
    "                # print(alloctemp)\n",
    "\n",
    "                line = file.readline()\n",
    "                # print(line)\n",
    "    return (Us, Vs, As)"
   ]
  },
  {
   "cell_type": "markdown",
   "metadata": {},
   "source": [
    "EF calculations"
   ]
  },
  {
   "cell_type": "code",
   "execution_count": 32,
   "metadata": {},
   "outputs": [],
   "source": [
    "additive_utililty = lambda alloc, utility : sum(np.array(alloc) * np.array(utility))\n",
    "\n",
    "def complementing_utility(alloc, utility, p_utility) :\n",
    "    pairwise_alloc = []\n",
    "    for i in range(0, len(alloc), 2):\n",
    "        pairwise_alloc.append(alloc[i] & alloc[i+1])\n",
    "    return additive_utililty(alloc, utility) + additive_utililty(pairwise_alloc, p_utility)\n",
    "\n",
    "def envyMap(allocs, utilities, p_utilities):\n",
    "    size_agents = np.array(allocs).shape[0]\n",
    "    envy_map = np.zeros((size_agents, size_agents))\n",
    "    for i in range(len(envy_map)):\n",
    "        for j in range(len(envy_map[i])):\n",
    "            envy_map[i][j] = complementing_utility(allocs[i], utilities[i], p_utilities[i]) \\\n",
    "            - complementing_utility(allocs[j], utilities[i], p_utilities[i])\n",
    "    return envy_map\n",
    "\n",
    "def envyMap_upto1(allocs, utilities, p_utilities):\n",
    "    size_agents = np.array(allocs).shape[0]\n",
    "    size_res = np.array(allocs).shape[1]\n",
    "    envy_map = np.zeros((size_agents, size_agents))\n",
    "    for i in range(len(envy_map)) :\n",
    "        for j in range(len(envy_map[i])):\n",
    "            envy_map[i][j] = complementing_utility(allocs[i], utilities[i], p_utilities[i]) \\\n",
    "            - complementing_utility(allocs[j], utilities[i], p_utilities[i])\n",
    "            if envy_map[i][j] < 0 :\n",
    "                envy_res_drop1_j = np.zeros(size_res)\n",
    "                max_pos_envy = - maxsize\n",
    "                for x in range(len(envy_res_drop1_j)) :\n",
    "                    new_alloc_j = list(allocs[j])\n",
    "                    new_alloc_j[x] = 0\n",
    "                    envy_res_drop1_j[x] = complementing_utility(allocs[i], utilities[i], p_utilities[i]) \\\n",
    "                    - complementing_utility(new_alloc_j, utilities[i], p_utilities[i])\n",
    "                    # print(envy_res_drop1_j)\n",
    "                    if envy_res_drop1_j[x] >= max_pos_envy:\n",
    "                        envy_map[i][j] = envy_res_drop1_j[x]\n",
    "                        max_pos_envy = envy_res_drop1_j[x]\n",
    "                \n",
    "    return envy_map\n",
    "\n",
    "def envyMap_upto2(allocs, utilities, p_utilities):\n",
    "    size_agents = np.array(allocs).shape[0]\n",
    "    size_res = np.array(allocs).shape[1]\n",
    "    envy_map = np.zeros((size_agents, size_agents))\n",
    "    for i in range(len(envy_map)) :\n",
    "        for j in range(len(envy_map[i])):\n",
    "            envy_map[i][j] = complementing_utility(allocs[i], utilities[i], p_utilities[i]) \\\n",
    "            - complementing_utility(allocs[j], utilities[i], p_utilities[i])\n",
    "            if envy_map[i][j] < 0 :\n",
    "                envy_res_drop1_j = np.zeros(size_res)\n",
    "                max_pos_envy = - maxsize\n",
    "                for x in range(len(envy_res_drop1_j)) :\n",
    "                    new_alloc_j = list(allocs[j])\n",
    "                    new_alloc_j[x] = 0\n",
    "                    envy_res_drop1_j[x] = complementing_utility(allocs[i], utilities[i], p_utilities[i]) \\\n",
    "                    - complementing_utility(new_alloc_j, utilities[i], p_utilities[i])\n",
    "                    # print(envy_res_drop1_j)\n",
    "                    if envy_res_drop1_j[x] >= max_pos_envy:\n",
    "                        envy_map[i][j] = envy_res_drop1_j[x]\n",
    "                        max_pos_envy = envy_res_drop1_j[x]\n",
    "                        if envy_map[i][j] < 0 :\n",
    "                            envy_res_drop2_j = np.zeros((size_res, size_res))\n",
    "                            max_pos_envy_drop2 = - maxsize\n",
    "                            for p in range(len(envy_res_drop2_j)):\n",
    "                                for q in range(len(envy_res_drop2_j[p])):\n",
    "                                    if p == q:\n",
    "                                        continue\n",
    "                                    new_alloc_j_drop2 = list(allocs[j])\n",
    "                                    new_alloc_j_drop2[p] = 0\n",
    "                                    new_alloc_j_drop2[q] = 0\n",
    "                                    envy_res_drop2_j[p][q] = complementing_utility(allocs[i], utilities[i], p_utilities[i]) \\\n",
    "                                    - complementing_utility(new_alloc_j_drop2, utilities[i], p_utilities[i])\n",
    "                                    if envy_res_drop2_j[p][q] >= max_pos_envy_drop2:\n",
    "                                        envy_map[i][j] = envy_res_drop2_j[p][q]\n",
    "                                        max_pos_envy_drop2 = envy_res_drop2_j[p][q]\n",
    "                \n",
    "    return envy_map"
   ]
  },
  {
   "cell_type": "code",
   "execution_count": 54,
   "metadata": {},
   "outputs": [],
   "source": [
    "def ef_percent(dir_name):\n",
    "    Us, Vs, As = readdat(dir_name)\n",
    "    Us = np.array(Us)\n",
    "    Vs = np.array(Vs)\n",
    "    As = np.array(As)\n",
    "    print(\"Us shape :\", Us.shape)\n",
    "    print(\"Vs shape :\", Vs.shape)\n",
    "    print(\"As shape :\", As.shape)\n",
    "    \n",
    "    ef_map = []\n",
    "    envymap0 = []\n",
    "    for i in range(1000):\n",
    "        envymaptemp = envyMap(As[i], Us[i], Vs[i])\n",
    "        envymap0.append(envymaptemp)\n",
    "        # print(envymaptemp)\n",
    "        ef_map.append(not bool(np.sum(envymaptemp<0)))\n",
    "\n",
    "    ef_map = np.array(ef_map)\n",
    "    # print(ef_map)\n",
    "    print(\"EF0 percent : \", np.sum(ef_map)/len(ef_map) * 100)\n",
    "\n",
    "    ef1_map = []\n",
    "    envymap1 = []\n",
    "    for i in range(1000):\n",
    "        envymaptemp = envyMap_upto1(As[i], Us[i], Vs[i])\n",
    "        envymap1.append(envymaptemp)\n",
    "        # print(envymaptemp)\n",
    "        ef1_map.append(not bool(np.sum(envymaptemp<0)))\n",
    "\n",
    "    ef1_map = np.array(ef1_map)\n",
    "    # print(ef_map)\n",
    "    print(\"EF1 percent : \", np.sum(ef1_map)/len(ef1_map) * 100)\n",
    "\n",
    "    ef2_map = []\n",
    "    envymap2 = []\n",
    "    for i in range(1000):\n",
    "        envymaptemp = envyMap_upto2(As[i], Us[i], Vs[i])\n",
    "        envymap2.append(envymaptemp)\n",
    "        # print(envymaptemp)\n",
    "        ef2_map.append(not bool(np.sum(envymaptemp<0)))\n",
    "\n",
    "    ef2_map = np.array(ef2_map)\n",
    "    # print(ef_map)\n",
    "    print(\"EF2 percent : \", np.sum(ef2_map)/len(ef2_map) * 100)\n"
   ]
  },
  {
   "cell_type": "markdown",
   "metadata": {},
   "source": [
    "For additive utilities"
   ]
  },
  {
   "cell_type": "code",
   "execution_count": 49,
   "metadata": {},
   "outputs": [],
   "source": [
    "dir_u_r10_u2 = \"/home/shail/work/UIC/ef-alloc-experiments/nash_allocs_random_u_r10_u2/\"\n",
    "dir_uv_r10_u2 = \"/home/shail/work/UIC/ef-alloc-experiments/nash_allocs_random_uv_r10_u2/\"\n",
    "\n",
    "dir_u_r4_u2 = \"/home/shail/work/UIC/ef-alloc-experiments/nash_allocs_random_u_r4_u2/\"\n",
    "dir_uv_r4_u2 = \"/home/shail/work/UIC/ef-alloc-experiments/nash_allocs_random_uv_r4_u2/\"\n",
    "\n",
    "dir_u_r6_u2 = \"/home/shail/work/UIC/ef-alloc-experiments/nash_allocs_random_u_r6_u2/\"\n",
    "dir_uv_r6_u2 = \"/home/shail/work/UIC/ef-alloc-experiments/nash_allocs_random_uv_r6_u2/\"\n",
    "\n",
    "dir_u_r8_u2 = \"/home/shail/work/UIC/ef-alloc-experiments/nash_allocs_random_u_r8_u2/\" # Not yet computed\n",
    "dir_uv_r8_u2 = \"/home/shail/work/UIC/ef-alloc-experiments/nash_allocs_random_uv_r8_u2/\"\n",
    "\n",
    "filename_pre = \"nash_allocs_random_uv_1\""
   ]
  },
  {
   "cell_type": "markdown",
   "metadata": {},
   "source": [
    "For complementing utilities"
   ]
  },
  {
   "cell_type": "code",
   "execution_count": 45,
   "metadata": {},
   "outputs": [],
   "source": [
    "# failtemp = np.argwhere(ef1_map==False)[0][0]\n",
    "# print(failtemp)\n",
    "# print(Us[failtemp])\n",
    "# print(Vs[failtemp])\n",
    "# print(As[failtemp])\n",
    "# print(envymap1[failtemp])"
   ]
  },
  {
   "cell_type": "code",
   "execution_count": 55,
   "metadata": {},
   "outputs": [
    {
     "name": "stdout",
     "output_type": "stream",
     "text": [
      "/home/shail/work/UIC/ef-alloc-experiments/nash_allocs_random_u_r10_u2/nash_allocs_random_uv_10\n",
      "/home/shail/work/UIC/ef-alloc-experiments/nash_allocs_random_u_r10_u2/nash_allocs_random_uv_11\n",
      "/home/shail/work/UIC/ef-alloc-experiments/nash_allocs_random_u_r10_u2/nash_allocs_random_uv_12\n",
      "/home/shail/work/UIC/ef-alloc-experiments/nash_allocs_random_u_r10_u2/nash_allocs_random_uv_13\n",
      "/home/shail/work/UIC/ef-alloc-experiments/nash_allocs_random_u_r10_u2/nash_allocs_random_uv_14\n",
      "/home/shail/work/UIC/ef-alloc-experiments/nash_allocs_random_u_r10_u2/nash_allocs_random_uv_15\n",
      "/home/shail/work/UIC/ef-alloc-experiments/nash_allocs_random_u_r10_u2/nash_allocs_random_uv_16\n",
      "/home/shail/work/UIC/ef-alloc-experiments/nash_allocs_random_u_r10_u2/nash_allocs_random_uv_17\n",
      "/home/shail/work/UIC/ef-alloc-experiments/nash_allocs_random_u_r10_u2/nash_allocs_random_uv_18\n",
      "/home/shail/work/UIC/ef-alloc-experiments/nash_allocs_random_u_r10_u2/nash_allocs_random_uv_19\n",
      "Us shape : (1000, 2, 10)\n",
      "Vs shape : (1000, 2, 5)\n",
      "As shape : (1000, 2, 10)\n",
      "EF0 percent :  99.9\n",
      "EF1 percent :  100.0\n",
      "EF2 percent :  100.0\n"
     ]
    }
   ],
   "source": [
    "ef_percent(dir_u_r10_u2)"
   ]
  },
  {
   "cell_type": "code",
   "execution_count": 63,
   "metadata": {
    "scrolled": true
   },
   "outputs": [],
   "source": [
    "# ef_percent(dir_u_r8_u2)"
   ]
  },
  {
   "cell_type": "code",
   "execution_count": 58,
   "metadata": {
    "scrolled": true
   },
   "outputs": [
    {
     "name": "stdout",
     "output_type": "stream",
     "text": [
      "/home/shail/work/UIC/ef-alloc-experiments/nash_allocs_random_u_r6_u2/nash_allocs_random_uv_10\n",
      "/home/shail/work/UIC/ef-alloc-experiments/nash_allocs_random_u_r6_u2/nash_allocs_random_uv_11\n",
      "/home/shail/work/UIC/ef-alloc-experiments/nash_allocs_random_u_r6_u2/nash_allocs_random_uv_12\n",
      "/home/shail/work/UIC/ef-alloc-experiments/nash_allocs_random_u_r6_u2/nash_allocs_random_uv_13\n",
      "/home/shail/work/UIC/ef-alloc-experiments/nash_allocs_random_u_r6_u2/nash_allocs_random_uv_14\n",
      "/home/shail/work/UIC/ef-alloc-experiments/nash_allocs_random_u_r6_u2/nash_allocs_random_uv_15\n",
      "/home/shail/work/UIC/ef-alloc-experiments/nash_allocs_random_u_r6_u2/nash_allocs_random_uv_16\n",
      "/home/shail/work/UIC/ef-alloc-experiments/nash_allocs_random_u_r6_u2/nash_allocs_random_uv_17\n",
      "/home/shail/work/UIC/ef-alloc-experiments/nash_allocs_random_u_r6_u2/nash_allocs_random_uv_18\n",
      "/home/shail/work/UIC/ef-alloc-experiments/nash_allocs_random_u_r6_u2/nash_allocs_random_uv_19\n",
      "Us shape : (1000, 2, 6)\n",
      "Vs shape : (1000, 2, 3)\n",
      "As shape : (1000, 2, 6)\n",
      "EF0 percent :  93.5\n",
      "EF1 percent :  100.0\n",
      "EF2 percent :  100.0\n"
     ]
    }
   ],
   "source": [
    "ef_percent(dir_u_r6_u2)"
   ]
  },
  {
   "cell_type": "code",
   "execution_count": 65,
   "metadata": {},
   "outputs": [
    {
     "name": "stdout",
     "output_type": "stream",
     "text": [
      "/home/shail/work/UIC/ef-alloc-experiments/nash_allocs_random_u_r4_u2/nash_allocs_random_uv_10\n",
      "/home/shail/work/UIC/ef-alloc-experiments/nash_allocs_random_u_r4_u2/nash_allocs_random_uv_11\n",
      "/home/shail/work/UIC/ef-alloc-experiments/nash_allocs_random_u_r4_u2/nash_allocs_random_uv_12\n",
      "/home/shail/work/UIC/ef-alloc-experiments/nash_allocs_random_u_r4_u2/nash_allocs_random_uv_13\n",
      "/home/shail/work/UIC/ef-alloc-experiments/nash_allocs_random_u_r4_u2/nash_allocs_random_uv_14\n",
      "/home/shail/work/UIC/ef-alloc-experiments/nash_allocs_random_u_r4_u2/nash_allocs_random_uv_15\n",
      "/home/shail/work/UIC/ef-alloc-experiments/nash_allocs_random_u_r4_u2/nash_allocs_random_uv_16\n",
      "/home/shail/work/UIC/ef-alloc-experiments/nash_allocs_random_u_r4_u2/nash_allocs_random_uv_17\n",
      "/home/shail/work/UIC/ef-alloc-experiments/nash_allocs_random_u_r4_u2/nash_allocs_random_uv_18\n",
      "/home/shail/work/UIC/ef-alloc-experiments/nash_allocs_random_u_r4_u2/nash_allocs_random_uv_19\n",
      "Us shape : (1000, 2, 4)\n",
      "Vs shape : (1000, 2, 2)\n",
      "As shape : (1000, 2, 4)\n",
      "EF0 percent :  77.10000000000001\n",
      "EF1 percent :  100.0\n",
      "EF2 percent :  100.0\n"
     ]
    }
   ],
   "source": [
    "ef_percent(dir_u_r4_u2)"
   ]
  },
  {
   "cell_type": "code",
   "execution_count": 69,
   "metadata": {
    "scrolled": true
   },
   "outputs": [
    {
     "name": "stdout",
     "output_type": "stream",
     "text": [
      "/home/shail/work/UIC/ef-alloc-experiments/nash_allocs_random_uv_r10_u2/nash_allocs_random_uv_10\n",
      "/home/shail/work/UIC/ef-alloc-experiments/nash_allocs_random_uv_r10_u2/nash_allocs_random_uv_11\n",
      "/home/shail/work/UIC/ef-alloc-experiments/nash_allocs_random_uv_r10_u2/nash_allocs_random_uv_12\n",
      "/home/shail/work/UIC/ef-alloc-experiments/nash_allocs_random_uv_r10_u2/nash_allocs_random_uv_13\n",
      "/home/shail/work/UIC/ef-alloc-experiments/nash_allocs_random_uv_r10_u2/nash_allocs_random_uv_14\n",
      "/home/shail/work/UIC/ef-alloc-experiments/nash_allocs_random_uv_r10_u2/nash_allocs_random_uv_15\n",
      "/home/shail/work/UIC/ef-alloc-experiments/nash_allocs_random_uv_r10_u2/nash_allocs_random_uv_16\n",
      "/home/shail/work/UIC/ef-alloc-experiments/nash_allocs_random_uv_r10_u2/nash_allocs_random_uv_17\n",
      "/home/shail/work/UIC/ef-alloc-experiments/nash_allocs_random_uv_r10_u2/nash_allocs_random_uv_18\n",
      "/home/shail/work/UIC/ef-alloc-experiments/nash_allocs_random_uv_r10_u2/nash_allocs_random_uv_19\n",
      "Us shape : (1000, 2, 10)\n",
      "Vs shape : (1000, 2, 5)\n",
      "As shape : (1000, 2, 10)\n",
      "EF0 percent :  75.7\n",
      "EF1 percent :  99.9\n",
      "EF2 percent :  100.0\n"
     ]
    }
   ],
   "source": [
    "ef_percent(dir_uv_r10_u2)"
   ]
  },
  {
   "cell_type": "code",
   "execution_count": 70,
   "metadata": {},
   "outputs": [
    {
     "name": "stdout",
     "output_type": "stream",
     "text": [
      "/home/shail/work/UIC/ef-alloc-experiments/nash_allocs_random_uv_r8_u2/nash_allocs_random_uv_10\n",
      "/home/shail/work/UIC/ef-alloc-experiments/nash_allocs_random_uv_r8_u2/nash_allocs_random_uv_11\n",
      "/home/shail/work/UIC/ef-alloc-experiments/nash_allocs_random_uv_r8_u2/nash_allocs_random_uv_12\n",
      "/home/shail/work/UIC/ef-alloc-experiments/nash_allocs_random_uv_r8_u2/nash_allocs_random_uv_13\n",
      "/home/shail/work/UIC/ef-alloc-experiments/nash_allocs_random_uv_r8_u2/nash_allocs_random_uv_14\n",
      "/home/shail/work/UIC/ef-alloc-experiments/nash_allocs_random_uv_r8_u2/nash_allocs_random_uv_15\n",
      "/home/shail/work/UIC/ef-alloc-experiments/nash_allocs_random_uv_r8_u2/nash_allocs_random_uv_16\n",
      "/home/shail/work/UIC/ef-alloc-experiments/nash_allocs_random_uv_r8_u2/nash_allocs_random_uv_17\n",
      "/home/shail/work/UIC/ef-alloc-experiments/nash_allocs_random_uv_r8_u2/nash_allocs_random_uv_18\n",
      "/home/shail/work/UIC/ef-alloc-experiments/nash_allocs_random_uv_r8_u2/nash_allocs_random_uv_19\n",
      "Us shape : (1000, 2, 8)\n",
      "Vs shape : (1000, 2, 4)\n",
      "As shape : (1000, 2, 8)\n",
      "EF0 percent :  77.8\n",
      "EF1 percent :  100.0\n",
      "EF2 percent :  100.0\n"
     ]
    }
   ],
   "source": [
    "ef_percent(dir_uv_r8_u2)"
   ]
  },
  {
   "cell_type": "code",
   "execution_count": 71,
   "metadata": {},
   "outputs": [
    {
     "name": "stdout",
     "output_type": "stream",
     "text": [
      "/home/shail/work/UIC/ef-alloc-experiments/nash_allocs_random_uv_r6_u2/nash_allocs_random_uv_10\n",
      "/home/shail/work/UIC/ef-alloc-experiments/nash_allocs_random_uv_r6_u2/nash_allocs_random_uv_11\n",
      "/home/shail/work/UIC/ef-alloc-experiments/nash_allocs_random_uv_r6_u2/nash_allocs_random_uv_12\n",
      "/home/shail/work/UIC/ef-alloc-experiments/nash_allocs_random_uv_r6_u2/nash_allocs_random_uv_13\n",
      "/home/shail/work/UIC/ef-alloc-experiments/nash_allocs_random_uv_r6_u2/nash_allocs_random_uv_14\n",
      "/home/shail/work/UIC/ef-alloc-experiments/nash_allocs_random_uv_r6_u2/nash_allocs_random_uv_15\n",
      "/home/shail/work/UIC/ef-alloc-experiments/nash_allocs_random_uv_r6_u2/nash_allocs_random_uv_16\n",
      "/home/shail/work/UIC/ef-alloc-experiments/nash_allocs_random_uv_r6_u2/nash_allocs_random_uv_17\n",
      "/home/shail/work/UIC/ef-alloc-experiments/nash_allocs_random_uv_r6_u2/nash_allocs_random_uv_18\n",
      "/home/shail/work/UIC/ef-alloc-experiments/nash_allocs_random_uv_r6_u2/nash_allocs_random_uv_19\n",
      "Us shape : (1000, 2, 6)\n",
      "Vs shape : (1000, 2, 3)\n",
      "As shape : (1000, 2, 6)\n",
      "EF0 percent :  48.699999999999996\n",
      "EF1 percent :  98.0\n",
      "EF2 percent :  100.0\n"
     ]
    }
   ],
   "source": [
    "ef_percent(dir_uv_r6_u2)"
   ]
  },
  {
   "cell_type": "code",
   "execution_count": 72,
   "metadata": {},
   "outputs": [
    {
     "name": "stdout",
     "output_type": "stream",
     "text": [
      "/home/shail/work/UIC/ef-alloc-experiments/nash_allocs_random_uv_r4_u2/nash_allocs_random_uv_10\n",
      "/home/shail/work/UIC/ef-alloc-experiments/nash_allocs_random_uv_r4_u2/nash_allocs_random_uv_11\n",
      "/home/shail/work/UIC/ef-alloc-experiments/nash_allocs_random_uv_r4_u2/nash_allocs_random_uv_12\n",
      "/home/shail/work/UIC/ef-alloc-experiments/nash_allocs_random_uv_r4_u2/nash_allocs_random_uv_13\n",
      "/home/shail/work/UIC/ef-alloc-experiments/nash_allocs_random_uv_r4_u2/nash_allocs_random_uv_14\n",
      "/home/shail/work/UIC/ef-alloc-experiments/nash_allocs_random_uv_r4_u2/nash_allocs_random_uv_15\n",
      "/home/shail/work/UIC/ef-alloc-experiments/nash_allocs_random_uv_r4_u2/nash_allocs_random_uv_16\n",
      "/home/shail/work/UIC/ef-alloc-experiments/nash_allocs_random_uv_r4_u2/nash_allocs_random_uv_17\n",
      "/home/shail/work/UIC/ef-alloc-experiments/nash_allocs_random_uv_r4_u2/nash_allocs_random_uv_18\n",
      "/home/shail/work/UIC/ef-alloc-experiments/nash_allocs_random_uv_r4_u2/nash_allocs_random_uv_19\n",
      "Us shape : (1000, 2, 4)\n",
      "Vs shape : (1000, 2, 2)\n",
      "As shape : (1000, 2, 4)\n",
      "EF0 percent :  51.5\n",
      "EF1 percent :  99.9\n",
      "EF2 percent :  100.0\n"
     ]
    }
   ],
   "source": [
    "ef_percent(dir_uv_r4_u2)"
   ]
  }
 ],
 "metadata": {
  "kernelspec": {
   "display_name": "Python 3",
   "language": "python",
   "name": "python3"
  },
  "language_info": {
   "codemirror_mode": {
    "name": "ipython",
    "version": 3
   },
   "file_extension": ".py",
   "mimetype": "text/x-python",
   "name": "python",
   "nbconvert_exporter": "python",
   "pygments_lexer": "ipython3",
   "version": "3.6.5"
  }
 },
 "nbformat": 4,
 "nbformat_minor": 2
}
