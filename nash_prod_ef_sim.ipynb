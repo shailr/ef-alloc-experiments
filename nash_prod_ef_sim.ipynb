{
 "cells": [
  {
   "cell_type": "code",
   "execution_count": 1,
   "metadata": {},
   "outputs": [],
   "source": [
    "import numpy as np\n",
    "from sys import maxsize\n",
    "import random"
   ]
  },
  {
   "cell_type": "markdown",
   "metadata": {},
   "source": [
    "*R* : Set of *m* resources represented as (id, cost?) tuples"
   ]
  },
  {
   "cell_type": "code",
   "execution_count": 2,
   "metadata": {},
   "outputs": [
    {
     "name": "stdout",
     "output_type": "stream",
     "text": [
      "[(0, 68), (1, 55), (2, 61), (3, 5), (4, 53), (5, 49), (6, 35), (7, 53), (8, 34), (9, 21)]\n"
     ]
    }
   ],
   "source": [
    "m = 10\n",
    "\n",
    "R = [(i, np.random.randint(0, 100)) for i in range(m)]\n",
    "print(R)"
   ]
  },
  {
   "cell_type": "markdown",
   "metadata": {},
   "source": [
    "*N* : Set of *n* agents as (id, balance?, priority?)"
   ]
  },
  {
   "cell_type": "code",
   "execution_count": 3,
   "metadata": {},
   "outputs": [
    {
     "data": {
      "text/plain": [
       "[(0, 76, 80), (1, 80, 52)]"
      ]
     },
     "execution_count": 3,
     "metadata": {},
     "output_type": "execute_result"
    }
   ],
   "source": [
    "n = 2\n",
    "\n",
    "N = [(i, np.random.randint(0, 100), np.random.randint(0, 100)) for i in range(n)]\n",
    "N"
   ]
  },
  {
   "cell_type": "markdown",
   "metadata": {},
   "source": [
    "Zero Allocations"
   ]
  },
  {
   "cell_type": "code",
   "execution_count": 4,
   "metadata": {},
   "outputs": [
    {
     "name": "stdout",
     "output_type": "stream",
     "text": [
      "[[0, 0, 0, 0, 0, 0, 0, 0, 0, 0], [0, 0, 0, 0, 0, 0, 0, 0, 0, 0]]\n"
     ]
    }
   ],
   "source": [
    "def init_allocs(resources, agents):\n",
    "    allocs = []\n",
    "    for index, i in enumerate(agents):\n",
    "        r_i = [0 for x in resources]\n",
    "        allocs.append(r_i)\n",
    "        \n",
    "    return allocs\n",
    "\n",
    "A = init_allocs(R, N)\n",
    "print(A)"
   ]
  },
  {
   "cell_type": "markdown",
   "metadata": {},
   "source": [
    "Random allocations"
   ]
  },
  {
   "cell_type": "code",
   "execution_count": 5,
   "metadata": {},
   "outputs": [],
   "source": [
    "def rand_allocs(resources, agents):\n",
    "    allocs = init_allocs(resources, agents)\n",
    "    for index, i in enumerate(resources):\n",
    "        allocs[np.random.randint(0, 100)//(100//len(agents))][index] = 1\n",
    "    return allocs"
   ]
  },
  {
   "cell_type": "code",
   "execution_count": 6,
   "metadata": {},
   "outputs": [
    {
     "name": "stdout",
     "output_type": "stream",
     "text": [
      "[[1, 1, 0, 0, 1, 1, 0, 0, 1, 0], [0, 0, 1, 1, 0, 0, 1, 1, 0, 1]]\n"
     ]
    }
   ],
   "source": [
    "A = rand_allocs(R, N)\n",
    "print(A)"
   ]
  },
  {
   "cell_type": "markdown",
   "metadata": {},
   "source": [
    "Random utility values of resources for both users : U"
   ]
  },
  {
   "cell_type": "code",
   "execution_count": 7,
   "metadata": {},
   "outputs": [
    {
     "name": "stdout",
     "output_type": "stream",
     "text": [
      "[[48, 74, 64, 20, 79, 2, 28, 54, 4, 18], [37, 14, 75, 90, 16, 26, 98, 88, 50, 49]]\n"
     ]
    }
   ],
   "source": [
    "U = []\n",
    "\n",
    "for index, i in enumerate(N):\n",
    "    u_i = random.sample(range(0, 100), len(R))\n",
    "    U.append(u_i)\n",
    "    \n",
    "    \n",
    "print(U)"
   ]
  },
  {
   "cell_type": "markdown",
   "metadata": {},
   "source": [
    "Random pair-wise complementing utility values : V"
   ]
  },
  {
   "cell_type": "code",
   "execution_count": 8,
   "metadata": {},
   "outputs": [
    {
     "name": "stdout",
     "output_type": "stream",
     "text": [
      "[[27, 69, 48, 76, 59], [98, 26, 3, 31, 43]]\n"
     ]
    }
   ],
   "source": [
    "V = []\n",
    "\n",
    "for index, i in enumerate(N):\n",
    "    v_ijjp1 = random.sample(range(0, 100), len(R)//2)\n",
    "    V.append(v_ijjp1)\n",
    "    \n",
    "    \n",
    "print(V)"
   ]
  },
  {
   "cell_type": "code",
   "execution_count": 9,
   "metadata": {},
   "outputs": [],
   "source": [
    "additive_utililty = lambda alloc, utility : sum(np.array(alloc) * np.array(utility))\n",
    "\n",
    "def complementing_utility(alloc, utility, p_utility) :\n",
    "    pairwise_alloc = []\n",
    "    for i in range(0, len(alloc), 2):\n",
    "        pairwise_alloc.append(alloc[i] & alloc[i+1])\n",
    "        \n",
    "#     print(alloc)\n",
    "#     print(pairwise_alloc)\n",
    "#     print(utility)\n",
    "#     print(p_utility)\n",
    "    return additive_utililty(alloc, utility) + additive_utililty(pairwise_alloc, p_utility)"
   ]
  },
  {
   "cell_type": "code",
   "execution_count": 36,
   "metadata": {},
   "outputs": [
    {
     "name": "stdout",
     "output_type": "stream",
     "text": [
      "207\n",
      "282\n"
     ]
    }
   ],
   "source": [
    "print(additive_utililty(A[0], U[0]))\n",
    "print(complementing_utility(A[0], U[0], V[0]))"
   ]
  },
  {
   "cell_type": "code",
   "execution_count": 34,
   "metadata": {},
   "outputs": [
    {
     "data": {
      "text/plain": [
       "[27, 69, 48, 76, 59]"
      ]
     },
     "execution_count": 34,
     "metadata": {},
     "output_type": "execute_result"
    }
   ],
   "source": [
    "V[0]"
   ]
  },
  {
   "cell_type": "code",
   "execution_count": 11,
   "metadata": {},
   "outputs": [],
   "source": [
    "def optimal_nash_prod_wcomp(utility, p_utility) :\n",
    "    n = len(utility)\n",
    "    if n :\n",
    "        m = len(utility[0])\n",
    "        \n",
    "    optimal_alloc = np.zeros((n, m))\n",
    "    opt_payoff = 0\n",
    "    for i in range(2**(m*n)) :\n",
    "        curr_alloc = np.array([int(x) for x in list(np.binary_repr(i, width=(m*n)))]).reshape(n, m).tolist()\n",
    "        req_resources = np.zeros(m)\n",
    "        payoff = 1\n",
    "        # print(curr_alloc)\n",
    "        for j in range(len(curr_alloc)) :\n",
    "            req_resources += curr_alloc[j]\n",
    "        if not np.array_equal(req_resources, np.ones(m)) :\n",
    "            continue\n",
    "        for j in range(len(curr_alloc)) :\n",
    "            payoff *= complementing_utility(curr_alloc[j], utility[j], p_utility[j])\n",
    "            \n",
    "        if opt_payoff < payoff :\n",
    "            opt_payoff = payoff\n",
    "            optimal_alloc = curr_alloc\n",
    "            \n",
    "    return(optimal_alloc)"
   ]
  },
  {
   "cell_type": "code",
   "execution_count": 12,
   "metadata": {},
   "outputs": [],
   "source": [
    "onpa = optimal_nash_prod_wcomp(U, V)"
   ]
  },
  {
   "cell_type": "markdown",
   "metadata": {},
   "source": [
    "<hr>\n",
    "#### Envy and envy up to one good calculations\n",
    "<hr>"
   ]
  },
  {
   "cell_type": "code",
   "execution_count": 52,
   "metadata": {},
   "outputs": [],
   "source": [
    "def envyMap(allocs, utilities, p_utilities):\n",
    "    size_agents = np.array(allocs).shape[0]\n",
    "    envy_map = np.zeros((size_agents, size_agents))\n",
    "    for i in range(len(envy_map)):\n",
    "        for j in range(len(envy_map[i])):\n",
    "            envy_map[i][j] = complementing_utility(allocs[i], utilities[i], p_utilities[i]) \\\n",
    "            - complementing_utility(allocs[j], utilities[j], p_utilities[j])\n",
    "    return envy_map"
   ]
  },
  {
   "cell_type": "code",
   "execution_count": 53,
   "metadata": {},
   "outputs": [],
   "source": [
    "def envyMap_upto1(allocs, utilities, p_utilities):\n",
    "    size_agents = np.array(allocs).shape[0]\n",
    "    size_res = np.array(allocs).shape[1]\n",
    "    envy_map = np.zeros((size_agents, size_agents))\n",
    "    for i in range(len(envy_map)) :\n",
    "        for j in range(len(envy_map[i])):\n",
    "            envy_map[i][j] = complementing_utility(allocs[i], utilities[i], p_utilities[i]) \\\n",
    "            - complementing_utility(allocs[j], utilities[i], p_utilities[i])\n",
    "            if envy_map[i][j] < 0 :\n",
    "                envy_res_drop1_j = np.zeros(size_res)\n",
    "                max_pos_envy = - maxsize\n",
    "                for x in range(len(envy_res_drop1_j)) :\n",
    "                    new_alloc_j = list(allocs[j])\n",
    "                    new_alloc_j[x] = 0\n",
    "                    envy_res_drop1_j[x] = complementing_utility(allocs[i], utilities[i], p_utilities[i]) \\\n",
    "                    - complementing_utility(new_alloc_j, utilities[i], p_utilities[i])\n",
    "                    # print(envy_res_drop1_j)\n",
    "                    if envy_res_drop1_j[x] >= max_pos_envy:\n",
    "                        envy_map[i][j] = envy_res_drop1_j[x]\n",
    "                        max_pos_envy = envy_res_drop1_j[x]\n",
    "                \n",
    "    return envy_map"
   ]
  },
  {
   "cell_type": "code",
   "execution_count": 51,
   "metadata": {},
   "outputs": [
    {
     "name": "stdout",
     "output_type": "stream",
     "text": [
      "[[48, 74, 64, 20, 79, 2, 28, 54, 4, 18], [37, 14, 75, 90, 16, 26, 98, 88, 50, 49]]\n",
      "[[27, 69, 48, 76, 59], [98, 26, 3, 31, 43]]\n"
     ]
    }
   ],
   "source": [
    "print(U)\n",
    "print(V)"
   ]
  },
  {
   "cell_type": "markdown",
   "metadata": {},
   "source": [
    "Envy map represents the envy between two agents. $envymap_{ij}$ is the amount with which i envies j"
   ]
  },
  {
   "cell_type": "code",
   "execution_count": 62,
   "metadata": {},
   "outputs": [
    {
     "name": "stdout",
     "output_type": "stream",
     "text": [
      "Random allocations :  [[0, 0, 1, 1, 1, 1, 0, 1, 0, 0], [1, 1, 0, 0, 0, 0, 1, 0, 1, 1]]\n",
      "[[  0. -53.]\n",
      " [ 53.   0.]]\n",
      "[[ 0. 78.]\n",
      " [65.  0.]]\n"
     ]
    }
   ],
   "source": [
    "rand_a = rand_allocs(R, N)\n",
    "print(\"Random allocations : \", rand_a)\n",
    "print(envyMap(rand_a, U, V))\n",
    "print(envyMap_upto1(rand_a, U, V))"
   ]
  },
  {
   "cell_type": "code",
   "execution_count": 63,
   "metadata": {},
   "outputs": [
    {
     "name": "stdout",
     "output_type": "stream",
     "text": [
      "Nash product allocations :  [[1, 1, 1, 1, 1, 1, 0, 0, 0, 0], [0, 0, 0, 0, 0, 0, 1, 1, 1, 1]]\n",
      "[[  0.  72.]\n",
      " [-72.   0.]]\n",
      "[[  0. 192.]\n",
      " [109.   0.]]\n"
     ]
    }
   ],
   "source": [
    "print(\"Nash product allocations : \", onpa)\n",
    "print(envyMap(onpa, U, V))\n",
    "print(envyMap_upto1(onpa, U, V))"
   ]
  },
  {
   "cell_type": "markdown",
   "metadata": {},
   "source": [
    "<hr>\n",
    "#### Envy free experiments on large sample\n",
    "<hr>"
   ]
  },
  {
   "cell_type": "markdown",
   "metadata": {},
   "source": [
    "m => Number of resources <br>\n",
    "R => Resources <id, value> <br>\n",
    "n => Number of agents <br>\n",
    "N => Agents <id, value, priority> <br>\n",
    "U => Additive utilities\n",
    "V => Complementing Utilities"
   ]
  },
  {
   "cell_type": "markdown",
   "metadata": {},
   "source": [
    "Additive utilities"
   ]
  },
  {
   "cell_type": "code",
   "execution_count": 112,
   "metadata": {},
   "outputs": [
    {
     "name": "stdout",
     "output_type": "stream",
     "text": [
      "EF1 percent :  36.3\n"
     ]
    }
   ],
   "source": [
    "np.random.seed(10)\n",
    "\n",
    "ef1_tracker = []\n",
    "\n",
    "for x in range(1000):\n",
    "    m = 10\n",
    "    R = [(i, np.random.randint(0, 100)) for i in range(m)]\n",
    "\n",
    "    n = 2\n",
    "    N = [(i, np.random.randint(0, 100), np.random.randint(0, 100)) for i in range(n)]\n",
    "\n",
    "    U = []\n",
    "    for index, i in enumerate(N):\n",
    "        u_i = np.random.random_sample(len(R)) * 100\n",
    "        U.append(u_i)\n",
    "\n",
    "    V = []\n",
    "    for index, i in enumerate(N):\n",
    "        v_ijjp1 = np.random.random_sample(len(R)//2) * 0\n",
    "        V.append(v_ijjp1)\n",
    "\n",
    "    random_alloc = rand_allocs(R, N)\n",
    "    envymap1 = envyMap_upto1(random_alloc, U, V)\n",
    "    ef1_tracker.append(not bool(np.sum(envymap1<0)))\n",
    "    \n",
    "    # print(\"Allocation : \", random_alloc)\n",
    "    # print(envymap1)\n",
    "    # print(\"Is EF1 allocation? \", ef1_tracker[x])\n",
    "    \n",
    "print(\"EF1 percent : \", np.sum(ef1_tracker)/len(ef1_tracker) * 100)"
   ]
  },
  {
   "cell_type": "markdown",
   "metadata": {},
   "source": [
    "Complementing utilities"
   ]
  },
  {
   "cell_type": "code",
   "execution_count": 113,
   "metadata": {},
   "outputs": [
    {
     "name": "stdout",
     "output_type": "stream",
     "text": [
      "EF1 percent :  37.9\n"
     ]
    }
   ],
   "source": [
    "np.random.seed(10)\n",
    "for x in range(1000):\n",
    "    m = 10\n",
    "    R = [(i, np.random.randint(0, 100)) for i in range(m)]\n",
    "\n",
    "    n = 2\n",
    "    N = [(i, np.random.randint(0, 100), np.random.randint(0, 100)) for i in range(n)]\n",
    "\n",
    "    U = []\n",
    "    for index, i in enumerate(N):\n",
    "        u_i = np.random.random_sample(len(R)) * 100\n",
    "        U.append(u_i)\n",
    "\n",
    "    V = []\n",
    "    for index, i in enumerate(N):\n",
    "        v_ijjp1 = np.random.random_sample(len(R)//2) * 100\n",
    "        V.append(v_ijjp1)\n",
    "\n",
    "    random_alloc = rand_allocs(R, N)\n",
    "    envymap1 = envyMap_upto1(random_alloc, U, V)\n",
    "    ef1_tracker.append(not bool(np.sum(envymap1<0)))\n",
    "    \n",
    "    # print(\"Allocation : \", random_alloc)\n",
    "    # print(envymap1)\n",
    "    # print(\"Is EF1 allocation? \", ef1_tracker[x])\n",
    "    \n",
    "print(\"EF1 percent : \", np.sum(ef1_tracker)/len(ef1_tracker) * 100)"
   ]
  },
  {
   "cell_type": "code",
   "execution_count": 118,
   "metadata": {
    "scrolled": true
   },
   "outputs": [
    {
     "name": "stdout",
     "output_type": "stream",
     "text": [
      "0  EF1 percent :  100.0\n",
      "1  EF1 percent :  100.0\n",
      "2  EF1 percent :  100.0\n",
      "3  EF1 percent :  100.0\n",
      "4  EF1 percent :  100.0\n",
      "5  EF1 percent :  100.0\n",
      "6  EF1 percent :  100.0\n",
      "7  EF1 percent :  100.0\n",
      "8  EF1 percent :  100.0\n",
      "9  EF1 percent :  100.0\n",
      "10  EF1 percent :  100.0\n",
      "11  EF1 percent :  100.0\n",
      "12  EF1 percent :  100.0\n",
      "13  EF1 percent :  100.0\n",
      "14  EF1 percent :  100.0\n",
      "15  EF1 percent :  100.0\n",
      "16  EF1 percent :  100.0\n",
      "17  EF1 percent :  100.0\n",
      "18  EF1 percent :  100.0\n",
      "19  EF1 percent :  100.0\n",
      "20  EF1 percent :  100.0\n",
      "21  EF1 percent :  100.0\n",
      "22  EF1 percent :  100.0\n",
      "23  EF1 percent :  100.0\n",
      "24  EF1 percent :  100.0\n",
      "25  EF1 percent :  100.0\n",
      "26  EF1 percent :  100.0\n",
      "27  EF1 percent :  100.0\n",
      "28  EF1 percent :  100.0\n",
      "29  EF1 percent :  100.0\n",
      "30  EF1 percent :  100.0\n",
      "31  EF1 percent :  100.0\n",
      "32  EF1 percent :  100.0\n",
      "33  EF1 percent :  100.0\n",
      "34  EF1 percent :  100.0\n",
      "35  EF1 percent :  100.0\n",
      "36  EF1 percent :  100.0\n",
      "37  EF1 percent :  100.0\n",
      "38  EF1 percent :  100.0\n",
      "39  EF1 percent :  100.0\n",
      "40  EF1 percent :  100.0\n",
      "41  EF1 percent :  100.0\n",
      "42  EF1 percent :  100.0\n",
      "43  EF1 percent :  100.0\n",
      "44  EF1 percent :  100.0\n",
      "45  EF1 percent :  100.0\n",
      "46  EF1 percent :  100.0\n",
      "47  EF1 percent :  100.0\n",
      "48  EF1 percent :  100.0\n",
      "49  EF1 percent :  100.0\n",
      "50  EF1 percent :  100.0\n",
      "51  EF1 percent :  100.0\n",
      "52  EF1 percent :  100.0\n",
      "53  EF1 percent :  100.0\n",
      "54  EF1 percent :  100.0\n",
      "55  EF1 percent :  100.0\n",
      "56  EF1 percent :  100.0\n",
      "57  EF1 percent :  100.0\n",
      "58  EF1 percent :  100.0\n",
      "59  EF1 percent :  100.0\n",
      "60  EF1 percent :  100.0\n",
      "61  EF1 percent :  100.0\n",
      "62  EF1 percent :  100.0\n",
      "63  EF1 percent :  100.0\n",
      "64  EF1 percent :  100.0\n",
      "65  EF1 percent :  100.0\n",
      "66  EF1 percent :  100.0\n",
      "67  EF1 percent :  100.0\n",
      "68  EF1 percent :  100.0\n",
      "69  EF1 percent :  100.0\n",
      "70  EF1 percent :  100.0\n",
      "71  EF1 percent :  100.0\n",
      "72  EF1 percent :  100.0\n",
      "73  EF1 percent :  100.0\n",
      "74  EF1 percent :  100.0\n",
      "75  EF1 percent :  100.0\n",
      "76  EF1 percent :  100.0\n",
      "77  EF1 percent :  100.0\n",
      "78  EF1 percent :  100.0\n",
      "79  EF1 percent :  100.0\n",
      "80  EF1 percent :  100.0\n",
      "81  EF1 percent :  100.0\n",
      "82  EF1 percent :  100.0\n",
      "83  EF1 percent :  100.0\n",
      "84  EF1 percent :  100.0\n",
      "85  EF1 percent :  100.0\n",
      "86  EF1 percent :  100.0\n",
      "87  EF1 percent :  100.0\n",
      "88  EF1 percent :  100.0\n",
      "89  EF1 percent :  100.0\n",
      "90  EF1 percent :  100.0\n",
      "91  EF1 percent :  100.0\n",
      "92  EF1 percent :  100.0\n",
      "93  EF1 percent :  100.0\n",
      "94  EF1 percent :  100.0\n",
      "95  EF1 percent :  100.0\n",
      "96  EF1 percent :  100.0\n",
      "97  EF1 percent :  100.0\n",
      "98  EF1 percent :  100.0\n",
      "99  EF1 percent :  100.0\n",
      "EF1 percent :  100.0\n"
     ]
    }
   ],
   "source": [
    "np.random.seed(10)\n",
    "\n",
    "ef1_tracker = []\n",
    "\n",
    "for x in range(100):\n",
    "    m = 10\n",
    "    R = [(i, np.random.randint(0, 100)) for i in range(m)]\n",
    "\n",
    "    n = 2\n",
    "    N = [(i, np.random.randint(0, 100), np.random.randint(0, 100)) for i in range(n)]\n",
    "\n",
    "    U = []\n",
    "    for index, i in enumerate(N):\n",
    "        u_i = np.random.random_sample(len(R)) * 100\n",
    "        U.append(u_i)\n",
    "\n",
    "    V = []\n",
    "    for index, i in enumerate(N):\n",
    "        v_ijjp1 = np.random.random_sample(len(R)//2) * 0\n",
    "        V.append(v_ijjp1)\n",
    "\n",
    "    nashp_alloc = optimal_nash_prod_wcomp(U, V)\n",
    "    envymap1 = envyMap_upto1(nashp_alloc, U, V)\n",
    "    ef1_tracker.append(not bool(np.sum(envymap1<0)))\n",
    "    \n",
    "    # print(\"Allocation : \", random_alloc)\n",
    "    # print(envymap1)\n",
    "    # print(\"Is EF1 allocation? \", ef1_tracker[x])\n",
    "    print(x, \" EF1 percent : \", np.sum(ef1_tracker)/len(ef1_tracker) * 100)\n",
    "    \n",
    "print(\"EF1 percent : \", np.sum(ef1_tracker)/len(ef1_tracker) * 100)"
   ]
  }
 ],
 "metadata": {
  "kernelspec": {
   "display_name": "Python 3",
   "language": "python",
   "name": "python3"
  },
  "language_info": {
   "codemirror_mode": {
    "name": "ipython",
    "version": 3
   },
   "file_extension": ".py",
   "mimetype": "text/x-python",
   "name": "python",
   "nbconvert_exporter": "python",
   "pygments_lexer": "ipython3",
   "version": "3.6.5"
  }
 },
 "nbformat": 4,
 "nbformat_minor": 2
}
